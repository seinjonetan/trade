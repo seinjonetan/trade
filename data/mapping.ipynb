{
 "cells": [
  {
   "cell_type": "code",
   "execution_count": 9,
   "metadata": {},
   "outputs": [],
   "source": [
    "import pandas as pd \n",
    "import dask.dataframe as dd\n",
    "from dask.diagnostics import ProgressBar\n",
    "from tqdm import tqdm"
   ]
  },
  {
   "cell_type": "code",
   "execution_count": 10,
   "metadata": {},
   "outputs": [],
   "source": [
    "mappings = [\n",
    "    ((405, 408), 'occ3_clean'),\n",
    "    ((415, 427), 'occ3_protect'),\n",
    "    ((415, 415), 'occ3_guard'),\n",
    "    ((425, 427), 'occ3_guard'),\n",
    "    ((433, 444), 'occ3_food'),\n",
    "    ((445, 447), 'occ3_shealth'),\n",
    "    ((448, 455), 'occ3_janitor'),\n",
    "    ((457, 458), 'occ3_beauty'),\n",
    "    ((459, 467), 'occ3_recreation'),\n",
    "    ((468, 468), 'occ3_child'),\n",
    "    ((469, 472), 'occ3_others'),\n",
    "    ((3, 22), 'occ2_exec'),\n",
    "    ((23, 37), 'occ2_mgmtrel'),\n",
    "    ((43, 200), 'occ2_prof'),\n",
    "    ((203, 235), 'occ2_tech'),\n",
    "    ((243, 258), 'occ2_finsales'),\n",
    "    ((274, 283), 'occ2_retsales'),\n",
    "    ((303, 389), 'occ2_cleric'),\n",
    "    ((417, 423), 'occ2_firepol'),\n",
    "    ((473, 475), 'occ2_farmer'),\n",
    "    ((479, 498), 'occ2_otheragr'),\n",
    "    ((503, 549), 'occ2_mechanic'),\n",
    "    ((558, 599), 'occ2_constr'),\n",
    "    ((614, 617), 'occ2_mining'),\n",
    "    ((628, 699), 'occ2_product'),\n",
    "    ((703, 799), 'occ2_operator'),\n",
    "    ((803, 889), 'occ2_transp'),\n",
    "]"
   ]
  },
  {
   "cell_type": "code",
   "execution_count": 11,
   "metadata": {},
   "outputs": [],
   "source": [
    "def map_occupations(occ1990dd):\n",
    "    for (start, end), occupation in mappings:\n",
    "        if start <= occ1990dd <= end:\n",
    "            return occupation\n",
    "    return 'other'\n",
    "\n",
    "def expand_ranges(df):\n",
    "    expanded_rows = []\n",
    "    for index, row in df.iterrows():\n",
    "        if '-' in index:\n",
    "            start, end = map(int, index.split('-'))\n",
    "            for i in range(start, end + 1):\n",
    "                expanded_rows.append((str(i), row['Name']))\n",
    "        else:\n",
    "            expanded_rows.append((index, row['Name']))\n",
    "    return pd.DataFrame(expanded_rows, columns=['Sector', 'Name']).set_index('Sector')"
   ]
  },
  {
   "cell_type": "code",
   "execution_count": 12,
   "metadata": {},
   "outputs": [
    {
     "name": "stderr",
     "output_type": "stream",
     "text": [
      "/home/sjone9/miniconda3/lib/python3.12/site-packages/dask_expr/_collection.py:4160: UserWarning: \n",
      "You did not provide metadata, so Dask is running your function on a small dataset to guess output types. It is possible that Dask will guess incorrectly.\n",
      "To provide an explicit output types or to silence this message, please provide the `meta=` keyword, as described in the map or apply function that you are using.\n",
      "  Before: .apply(func)\n",
      "  After:  .apply(func, meta=('FIPS', 'float64'))\n",
      "\n",
      "  warnings.warn(meta_warning(meta))\n"
     ]
    },
    {
     "data": {
      "text/plain": [
       "122284061"
      ]
     },
     "execution_count": 12,
     "metadata": {},
     "output_type": "execute_result"
    }
   ],
   "source": [
    "df = dd.read_csv('raw/usa_00015.csv', assume_missing=True, dtype={'INDNAICS': 'string'})\n",
    "df_cz = pd.read_csv('raw/cz_mappings.csv')\n",
    "df_cz = df_cz[['LMA/CZ', 'FIPS']]\n",
    "\n",
    "df['FIPS'] = df['STATEFIP'] * 1000 + df['COUNTYFIP']\n",
    "df['COMZONE'] = df['FIPS'].map(df_cz.set_index('FIPS')['LMA/CZ'])\n",
    "\n",
    "with ProgressBar():\n",
    "    df.shape[0].compute()\n",
    "\n",
    "# with ProgressBar():\n",
    "#     df = df.compute(scheduler='threads')"
   ]
  },
  {
   "cell_type": "code",
   "execution_count": 13,
   "metadata": {},
   "outputs": [],
   "source": [
    "# df_cz = pd.read_csv('raw/cz_county.csv')\n",
    "# df_cz = df_cz[~df_cz['County Name'].str.contains('Total')]\n",
    "# df_cz = df_cz[['LMA/CZ', 'FIPS', 'County Name']]\n",
    "# df_cz['County Name'] = df_cz['County Name'].str.replace('\"', '').str.rstrip(',')\n",
    "# df_cz['LMA/CZ'] = df_cz['LMA/CZ'].astype(str).str[:-2].astype(int)\n",
    "# df_cz.to_csv('raw/cz_mappings.csv', index=False)"
   ]
  }
 ],
 "metadata": {
  "kernelspec": {
   "display_name": "base",
   "language": "python",
   "name": "python3"
  },
  "language_info": {
   "codemirror_mode": {
    "name": "ipython",
    "version": 3
   },
   "file_extension": ".py",
   "mimetype": "text/x-python",
   "name": "python",
   "nbconvert_exporter": "python",
   "pygments_lexer": "ipython3",
   "version": "3.12.2"
  }
 },
 "nbformat": 4,
 "nbformat_minor": 2
}
