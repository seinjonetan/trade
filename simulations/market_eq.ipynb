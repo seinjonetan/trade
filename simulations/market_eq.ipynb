{
 "cells": [
  {
   "cell_type": "code",
   "execution_count": 48,
   "metadata": {},
   "outputs": [],
   "source": [
    "import numpy as np\n",
    "from scipy.special import gamma\n",
    "# import matplotlib.pyplot as plt\n",
    "# import seaborn as sns"
   ]
  },
  {
   "cell_type": "code",
   "execution_count": 49,
   "metadata": {},
   "outputs": [],
   "source": [
    "np.random.seed(42)\n",
    "\n",
    "T_c = np.random.normal(loc=10, scale=3, size=10)\n",
    "T_k = np.random.normal(loc=10, scale=3, size=5)\n",
    "t_ck = np.random.normal(loc=10, scale=3, size=(10,5))\n",
    "\n",
    "T_c[6] = T_c[6] * 0.5\n",
    "\n",
    "theta = 3\n",
    "rho = 0.4\n",
    "alpha = 7\n",
    "eta = 1.65\n",
    "\n",
    "w_ck = np.ones((10,5))\n",
    "P_yk = np.ones(5)\n",
    "Y_c = np.ones(10)"
   ]
  },
  {
   "cell_type": "code",
   "execution_count": 50,
   "metadata": {},
   "outputs": [],
   "source": [
    "P = np.sum(P_yk)\n",
    "Y = np.sum(Y_c)\n",
    "lambda_k = np.sum(t_ck * w_ck, axis=0)\n",
    "Gamma = gamma((theta - 1) / theta)\n",
    "\n",
    "# top = P_yk ** (alpha - eta)\n",
    "# bottom = lambda_k ** (- rho)\n",
    "\n",
    "# left = (np.outer(T_c, T_k) ** (alpha - 1)) / t_ck\n",
    "# middle = top / bottom\n",
    "# middle = np.tile(middle, (10, 1))\n",
    "# right = (P ** eta) * Y / Gamma\n",
    "\n",
    "# w_ck = (left * middle * right) ** (1 / (theta + alpha - 1))\n",
    "# z_ck = Gamma * t_ck * (w_ck ** (theta - 1)) * (lambda_k ** (- rho))\n",
    "# Q_ck = np.outer(T_c, T_k) * z_ck\n",
    "# P_yk = np.mean(w_ck / np.outer(T_c, T_k), axis=1)\n",
    "# Y = np.sum(Q_ck)\n",
    "\n",
    "# Initialize variables\n",
    "epsilon = 1e-6\n",
    "Y = np.sum(Y_c)\n",
    "Y_prev = Y + 2 * epsilon  # Ensure the loop starts\n",
    "Y_values = []  # List to store Y values for each iteration\n",
    "\n",
    "while abs(Y - Y_prev) >= epsilon:\n",
    "    Y_prev = Y\n",
    "    P = np.sum(P_yk)\n",
    "    Y = np.sum(Y_c)\n",
    "    lambda_k = np.sum(t_ck * w_ck, axis=0)\n",
    "\n",
    "    top = P_yk ** (alpha - eta)\n",
    "    bottom = lambda_k ** (- rho)\n",
    "\n",
    "    left = (np.outer(T_c, T_k) ** (alpha - 1)) / t_ck\n",
    "    middle = top / bottom\n",
    "    middle = np.tile(middle, (10, 1))\n",
    "    right = (P ** eta) * Y / Gamma\n",
    "\n",
    "    w_ck = (left * middle * right) ** (1 / (theta + alpha - 1))\n",
    "    z_ck = Gamma * t_ck * (w_ck ** (theta - 1)) * (lambda_k ** (- rho))\n",
    "    Q_ck = np.outer(T_c, T_k) * z_ck\n",
    "    P_yk = np.mean(w_ck / np.outer(T_c, T_k), axis=0)\n",
    "    Y = np.sum(Q_ck)\n",
    "    \n",
    "    Y_values.append(Y)  # Append the current value of Y to the list\n",
    "\n",
    "pi_ck_left = t_ck * (w_ck ** theta)\n",
    "pi_ck_right = (lambda_k ** (- rho)) / np.sum(lambda_k ** (1 - rho))\n",
    "pi_ck = pi_ck_left * pi_ck_right\n",
    "\n",
    "pi_c_left = (t_ck * (w_ck ** theta)) / np.sum(t_ck * (w_ck ** theta), axis=0)\n",
    "pi_c_right = (lambda_k ** (1 - rho)) / np.sum(lambda_k ** (1 - rho))\n",
    "pi_c = np.sum(pi_c_left * pi_c_right, axis=1)"
   ]
  },
  {
   "cell_type": "code",
   "execution_count": 51,
   "metadata": {},
   "outputs": [],
   "source": [
    "# np.savetxt('params/T_c.csv', T_c, delimiter=',')\n",
    "# np.savetxt('params/T_k.csv', T_k, delimiter=',')\n",
    "# np.savetxt('params/t_ck.csv', t_ck, delimiter=',')\n",
    "# np.savetxt('output/w_ck.csv', w_ck, delimiter=',')\n",
    "# np.savetxt('output/P_yk.csv', P_yk, delimiter=',')\n",
    "# np.savetxt('output/Q_ck.csv', Q_ck, delimiter=',')\n",
    "np.savetxt('output/pi_ck_shock.csv', pi_ck, delimiter=',')\n",
    "# np.savetxt('output/pi_c_shock.csv', pi_c, delimiter=',')"
   ]
  }
 ],
 "metadata": {
  "kernelspec": {
   "display_name": "base",
   "language": "python",
   "name": "python3"
  },
  "language_info": {
   "codemirror_mode": {
    "name": "ipython",
    "version": 3
   },
   "file_extension": ".py",
   "mimetype": "text/x-python",
   "name": "python",
   "nbconvert_exporter": "python",
   "pygments_lexer": "ipython3",
   "version": "3.12.2"
  }
 },
 "nbformat": 4,
 "nbformat_minor": 2
}
