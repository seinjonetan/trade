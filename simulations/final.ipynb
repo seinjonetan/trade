{
 "cells": [
  {
   "cell_type": "code",
   "execution_count": 13,
   "metadata": {},
   "outputs": [],
   "source": [
    "from scipy.stats import rv_continuous\n",
    "import numpy as np\n",
    "import matplotlib.pyplot as plt\n",
    "\n",
    "class frechet_distribution_gen(rv_continuous):\n",
    "    \"Frechet distribution\"\n",
    "    def _pdf(self, x, shape, scale_param):\n",
    "        return scale_param * shape * x ** (-1 - shape) * np.exp(- scale_param * x ** -shape)\n",
    "    \n",
    "    def _cdf(self, x, shape, scale_param):\n",
    "        return np.exp(- scale_param * x ** -shape)\n",
    "    \n",
    "    def _get_support(self, *args):\n",
    "        return (0, np.inf)\n",
    "\n",
    "# Create a frozen instance of our distribution\n",
    "frechet_distribution = frechet_distribution_gen(name='frechet')\n",
    "\n",
    "def frechet_draws(shape, scale_param, size=1):\n",
    "    return frechet_distribution.rvs(shape, scale_param, size=size)\n",
    "\n",
    "def draw_samples(shape, scale_matrix, size=1):\n",
    "    # Initialize an array to store the samples\n",
    "    samples = np.empty(scale_matrix.shape)\n",
    "\n",
    "    # Draw samples for each scale parameter in the matrix\n",
    "    for i in range(scale_matrix.shape[0]):\n",
    "        for j in range(scale_matrix.shape[1]):\n",
    "            samples[i, j] = frechet_distribution.rvs(shape, scale_matrix[i, j], size=size)\n",
    "\n",
    "    return samples\n",
    "\n",
    "def get_city(shape, scales, rho_value):\n",
    "    scales = np.power(scales, 1 / (1 - rho_value))\n",
    "    shape = shape ** (1 / (1 - rho_value))\n",
    "    draws = draw_samples(shape, scales)\n",
    "    max_col_index = np.unravel_index(np.argmax(draws), draws.shape)[1]\n",
    "    return max_col_index"
   ]
  },
  {
   "cell_type": "code",
   "execution_count": 14,
   "metadata": {},
   "outputs": [],
   "source": [
    "import pandas as pd\n",
    "\n",
    "# Assume two occupations, trades and services \n",
    "# Assume 3 cities and 2 household types \n",
    "\n",
    "# Houehold types \n",
    "trade_focus = [0.7, 0.4] \n",
    "service_focus = [0.3, 0.8] \n",
    "\n",
    "# City types\n",
    "detriot_t = [0.7, 0.2] \n",
    "chicago_t = [0.8, 0.1] \n",
    "new_york_s = [0.3, 0.8] \n",
    "\n",
    "# Assume some parameters \n",
    "shape = 2\n",
    "rho_values = [0.7, 0.5]\n",
    "\n",
    "# Calculate city household type pair scale parameters\n",
    "households = [trade_focus, service_focus]\n",
    "cities = [detriot_t, chicago_t, new_york_s]\n",
    "\n",
    "houehold_names = ['trade', 'service']\n",
    "city_names = ['detriot', 'chicago', 'new_york']\n",
    "\n",
    "scale_paramaters = {}\n",
    "\n",
    "for houehold in households:\n",
    "    for city in cities:\n",
    "        scale_matrix = [a*b for a, b in zip(houehold, city)]\n",
    "        scale_paramaters[(houehold_names[households.index(houehold)], city_names[cities.index(city)])] = scale_matrix\n",
    "\n",
    "df_scales = pd.DataFrame(scale_paramaters)\n",
    "df_scales.index = ['trade', 'service']"
   ]
  },
  {
   "cell_type": "code",
   "execution_count": 15,
   "metadata": {},
   "outputs": [
    {
     "name": "stderr",
     "output_type": "stream",
     "text": [
      "/tmp/ipykernel_61288/1559986481.py:29: DeprecationWarning: Conversion of an array with ndim > 0 to a scalar is deprecated, and will error in future. Ensure you extract a single element from your array before performing this operation. (Deprecated NumPy 1.25.)\n",
      "  samples[i, j] = frechet_distribution.rvs(shape, scale_matrix[i, j], size=size)\n"
     ]
    }
   ],
   "source": [
    "df_trades = df_scales.filter(like='trade')\n",
    "df_services = df_scales.filter(like='service')\n",
    "\n",
    "t_draws = draw_samples(shape, df_trades.values)\n",
    "s_draws = draw_samples(shape, df_services.values)\n",
    "\n",
    "max_col_index = np.unravel_index(np.argmax(t_draws), t_draws.shape)[1]"
   ]
  },
  {
   "cell_type": "code",
   "execution_count": 16,
   "metadata": {},
   "outputs": [
    {
     "name": "stderr",
     "output_type": "stream",
     "text": [
      "/tmp/ipykernel_61288/1559986481.py:29: DeprecationWarning: Conversion of an array with ndim > 0 to a scalar is deprecated, and will error in future. Ensure you extract a single element from your array before performing this operation. (Deprecated NumPy 1.25.)\n",
      "  samples[i, j] = frechet_distribution.rvs(shape, scale_matrix[i, j], size=size)\n"
     ]
    }
   ],
   "source": [
    "location_choice = {}\n",
    "\n",
    "for i in range(100):\n",
    "    max_city = get_city(shape, df_trades.values, rho_values[0])\n",
    "    location_choice[max_city] = location_choice.get(max_city, 0) + 1\n",
    "\n",
    "for i in range(100):\n",
    "    max_city = get_city(shape, df_services.values, rho_values[1])\n",
    "    location_choice[max_city] = location_choice.get(max_city, 0) + 1\n",
    "\n",
    "location_choice = {city_names[k]: v for k, v in location_choice.items()}"
   ]
  },
  {
   "cell_type": "code",
   "execution_count": 17,
   "metadata": {},
   "outputs": [
    {
     "data": {
      "image/png": "[encoded data removed]",
      "text/plain": [
       "<Figure size 640x480 with 1 Axes>"
      ]
     },
     "metadata": {},
     "output_type": "display_data"
    }
   ],
   "source": [
    "plt.bar(location_choice.keys(), location_choice.values())\n",
    "plt.xlabel('City')\n",
    "plt.ylabel('Value')\n",
    "plt.title('City Pop')\n",
    "plt.show()"
   ]
  }
 ],
 "metadata": {
  "kernelspec": {
   "display_name": "trade",
   "language": "python",
   "name": "python3"
  },
  "language_info": {
   "codemirror_mode": {
    "name": "ipython",
    "version": 3
   },
   "file_extension": ".py",
   "mimetype": "text/x-python",
   "name": "python",
   "nbconvert_exporter": "python",
   "pygments_lexer": "ipython3",
   "version": "3.12.3"
  }
 },
 "nbformat": 4,
 "nbformat_minor": 2
}
