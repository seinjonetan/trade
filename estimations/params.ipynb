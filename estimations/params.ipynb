{
 "cells": [
  {
   "cell_type": "code",
   "execution_count": 17,
   "metadata": {},
   "outputs": [],
   "source": [
    "import pandas as pd\n",
    "import numpy as np\n",
    "import glob\n",
    "import os"
   ]
  },
  {
   "cell_type": "code",
   "execution_count": 18,
   "metadata": {},
   "outputs": [],
   "source": [
    "df_wiv = pd.read_csv('results/regressions/city_sec_iv.csv')\n",
    "df_ckols = pd.read_csv('results/regressions/city_occ_ols.csv')\n",
    "df_cols = pd.read_csv('results/regressions/deltas/city_wage_ols.csv')"
   ]
  },
  {
   "cell_type": "code",
   "execution_count": 19,
   "metadata": {},
   "outputs": [],
   "source": [
    "rho = 1 - (1 / df_wiv['iv_wage_coeff'])\n",
    "rho = rho.unique()[0]"
   ]
  },
  {
   "cell_type": "code",
   "execution_count": 20,
   "metadata": {},
   "outputs": [
    {
     "name": "stderr",
     "output_type": "stream",
     "text": [
      "/tmp/ipykernel_288958/1212370624.py:5: SettingWithCopyWarning: \n",
      "A value is trying to be set on a copy of a slice from a DataFrame.\n",
      "Try using .loc[row_indexer,col_indexer] = value instead\n",
      "\n",
      "See the caveats in the documentation: https://pandas.pydata.org/pandas-docs/stable/user_guide/indexing.html#returning-a-view-versus-a-copy\n",
      "  t_ckt['residuals'] = t_ckt['residuals'] * (1 - rho)\n",
      "/tmp/ipykernel_288958/1212370624.py:6: SettingWithCopyWarning: \n",
      "A value is trying to be set on a copy of a slice from a DataFrame.\n",
      "Try using .loc[row_indexer,col_indexer] = value instead\n",
      "\n",
      "See the caveats in the documentation: https://pandas.pydata.org/pandas-docs/stable/user_guide/indexing.html#returning-a-view-versus-a-copy\n",
      "  t_ckt['t_ckt'] = t_ckt['residuals'].apply(lambda x: np.exp(x))\n"
     ]
    }
   ],
   "source": [
    "lambda_k = df_ckols[['occ_year', 'occ_year_coeff']].groupby('occ_year').mean()\n",
    "lambda_k = - lambda_k\n",
    "\n",
    "t_ckt = df_ckols[['occ_year', 'city_year', 'residuals']]\n",
    "t_ckt['residuals'] = t_ckt['residuals'] * (1 - rho)\n",
    "t_ckt['t_ckt'] = t_ckt['residuals'].apply(lambda x: np.exp(x))\n",
    "t_ckt = t_ckt.drop(columns=['residuals'])\n",
    "t_ckt.to_csv('results/params/t_ckt.csv', index=False)"
   ]
  },
  {
   "cell_type": "code",
   "execution_count": 21,
   "metadata": {},
   "outputs": [],
   "source": [
    "files = glob.glob('../data/processed/city_occ_employment/*.csv')\n",
    "\n",
    "employment = pd.DataFrame()\n",
    "\n",
    "for file in files:\n",
    "    year = int(os.path.basename(file)[-8:-4])\n",
    "    current = pd.read_csv(file)\n",
    "    current['city_total'] = current.iloc[:, 1:].sum(axis=1)\n",
    "    current = current.melt(id_vars=['MET2013'], var_name='Occupation', value_name='Employed')\n",
    "    current['Year'] = year\n",
    "    employment = pd.concat([employment, current], ignore_index=True)\n",
    "\n",
    "employment = employment.groupby(['Occupation', 'Year']).sum().reset_index()\n",
    "employment = employment[employment['Occupation'] != 'city_total']\n",
    "employment = employment.drop(columns=['MET2013'])\n",
    "\n",
    "year_total = employment.groupby('Year').sum().reset_index()\n",
    "employment = employment.merge(year_total, on='Year', suffixes=('', '_total'))\n",
    "employment['Occupation_Share'] = employment['Employed'] / employment['Employed_total']\n",
    "employment = employment.drop(columns=['Employed', 'Employed_total', 'Occupation_total'])\n",
    "\n",
    "normalization = employment[employment['Occupation'] == 'occ2_management'].rename(columns={'Occupation_Share': 'Occupation_Share_normalization'})\n",
    "employment = employment.merge(normalization[['Year', 'Occupation_Share_normalization']], on='Year')\n",
    "employment['normalized'] = employment['Occupation_Share'] / employment['Occupation_Share_normalization']\n",
    "employment['occ_year'] = '(' + employment['Occupation'] + ')' + '_' + employment['Year'].astype(str)\n",
    "employment = employment[['occ_year', 'normalized']]"
   ]
  },
  {
   "cell_type": "code",
   "execution_count": 22,
   "metadata": {},
   "outputs": [],
   "source": [
    "lambda_k = lambda_k.merge(employment, on='occ_year')\n",
    "\n",
    "lambda_k['year'] = lambda_k['occ_year'].apply(lambda x: int(x[-4:]))\n",
    "numerator = lambda_k.groupby('year').sum().reset_index()\n",
    "numerator = numerator.rename(columns={'normalized': 'numerator'})\n",
    "\n",
    "lambda_k = lambda_k.merge(numerator[['year', 'numerator']], on='year')\n",
    "lambda_k['T_k'] = lambda_k['numerator'] / lambda_k['occ_year_coeff']\n",
    "T_k = lambda_k[['occ_year', 'T_k']]\n",
    "T_k.to_csv('results/params/T_k.csv', index=False)"
   ]
  },
  {
   "cell_type": "code",
   "execution_count": 28,
   "metadata": {},
   "outputs": [],
   "source": [
    "T_c = df_cols[['city_year', 'city_year_coeff']].groupby('city_year').mean()\n",
    "T_c['rho'] = rho\n",
    "T_c['T_c'] = T_c['city_year_coeff'] * (1 - T_c['rho'])\n",
    "T_c['T_c'] = T_c['T_c'].apply(lambda x: np.exp(x))\n",
    "T_c = T_c.drop(columns=['city_year_coeff', 'rho'])\n",
    "T_c.to_csv('results/params/T_c.csv', index=True)"
   ]
  },
  {
   "cell_type": "code",
   "execution_count": 24,
   "metadata": {},
   "outputs": [],
   "source": [
    "theta = df_cols['wage_coeff'].unique()[0]\n",
    "theta = - theta * (1 - rho)\n",
    "\n",
    "major_params = pd.DataFrame({'rho': [rho], 'theta': [theta]})\n",
    "major_params.to_csv('results/params/major_params.csv', index=False)"
   ]
  }
 ],
 "metadata": {
  "kernelspec": {
   "display_name": "base",
   "language": "python",
   "name": "python3"
  },
  "language_info": {
   "codemirror_mode": {
    "name": "ipython",
    "version": 3
   },
   "file_extension": ".py",
   "mimetype": "text/x-python",
   "name": "python",
   "nbconvert_exporter": "python",
   "pygments_lexer": "ipython3",
   "version": "3.12.2"
  }
 },
 "nbformat": 4,
 "nbformat_minor": 2
}
