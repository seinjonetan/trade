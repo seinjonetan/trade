{
 "cells": [
  {
   "cell_type": "code",
   "execution_count": 14,
   "metadata": {},
   "outputs": [],
   "source": [
    "import pandas as pd"
   ]
  },
  {
   "cell_type": "code",
   "execution_count": 15,
   "metadata": {},
   "outputs": [],
   "source": [
    "df_tck = pd.read_csv('results/params/t_ckt.csv')\n",
    "df_Tc = pd.read_csv('results/params/T_c.csv')\n",
    "df_Tk = pd.read_csv('results/params/T_k.csv')\n",
    "df_phi = pd.read_csv('../data/processed/city_rent.csv')\n",
    "df_mj = pd.read_csv('results/params/major_params.csv')\n",
    "\n",
    "df_tck = df_tck[df_tck['city_year'].astype(str).str.endswith('2019')]\n",
    "df_Tc = df_Tc[df_Tc['city_year'].astype(str).str.endswith('2019')]\n",
    "df_Tk = df_Tk[df_Tk['occ_year'].astype(str).str.endswith('2019')]\n",
    "df_phi = df_phi[['city', '2019']]\n",
    "\n",
    "df_phi = df_phi.rename(columns={'2019': 'phi'})\n",
    "\n",
    "df_tck['city'] = df_tck['city_year'].str.split('_').str[0].str.replace(r'[()]', '', regex=True)\n",
    "df_tck['occ'] = df_tck['occ_year'].str.extract(r'\\((.*?)\\)')[0]\n",
    "df_Tc['city'] = df_Tc['city_year'].str.split('_').str[0].str.replace(r'[()]', '', regex=True)\n",
    "df_Tk['occ'] = df_Tk['occ_year'].str.extract(r'\\((.*?)\\)')[0]\n",
    "\n",
    "df_tck = df_tck[['city', 'occ', 't_ckt']]\n",
    "df_Tc = df_Tc[['city', 'T_c']]\n",
    "df_Tk = df_Tk[['occ', 'T_k']]"
   ]
  },
  {
   "cell_type": "code",
   "execution_count": 16,
   "metadata": {},
   "outputs": [],
   "source": [
    "lambda_k = df_tck.groupby('occ').sum().reset_index()\n",
    "lambda_k = lambda_k.drop(columns=['city'])\n",
    "lambda_k = lambda_k[~lambda_k['occ'].str.contains('city_total')]\n",
    "lambda_k = lambda_k.rename(columns={'t_ckt': 'lambda_k'})"
   ]
  },
  {
   "cell_type": "code",
   "execution_count": 17,
   "metadata": {},
   "outputs": [],
   "source": [
    "z_c = df_Tc.copy()\n",
    "z_c = z_c.merge(df_phi, on='city')\n",
    "z_c['z_c'] = z_c['T_c'] / z_c['phi']\n",
    "z_c = z_c.drop(columns=['T_c', 'phi'])\n",
    "z_c['z_c'] = z_c['z_c'].apply(lambda x: x ** df_mj['theta'].values[0])"
   ]
  },
  {
   "cell_type": "code",
   "execution_count": 18,
   "metadata": {},
   "outputs": [],
   "source": [
    "pi_ck = df_tck.copy()\n",
    "pi_ck = pi_ck.merge(z_c, on='city')\n",
    "pi_ck['t_ckt'] = pi_ck['t_ckt'] * pi_ck['z_c']\n",
    "pi_ck = pi_ck.drop(columns=['z_c'])\n",
    "\n",
    "pi_ck['t_ckt'] = pi_ck['t_ckt'].apply(lambda x: x ** (1 / (1 - df_mj['rho'][0])))\n",
    "pi_ck = pi_ck.merge(lambda_k, on='occ')\n",
    "pi_ck['pi_ck'] = pi_ck['t_ckt'] / pi_ck['lambda_k']\n",
    "pi_ck = pi_ck.drop(columns=['t_ckt', 'lambda_k'])\n",
    "pi_ck = pi_ck.pivot(index='city', columns='occ', values='pi_ck').reset_index()"
   ]
  },
  {
   "cell_type": "code",
   "execution_count": 19,
   "metadata": {},
   "outputs": [],
   "source": [
    "pi_c = df_tck.copy()\n",
    "pi_c = pi_c.merge(z_c, on='city')\n",
    "pi_c['t_ckt'] = pi_c['t_ckt'] * pi_c['z_c']\n",
    "pi_c = pi_c.drop(columns=['z_c'])\n",
    "pi_c = pi_c.merge(lambda_k, on='occ')\n",
    "\n",
    "omega = df_Tk.copy()\n",
    "omega = omega.merge(lambda_k, on='occ')\n",
    "omega['lambda_k'] = omega['lambda_k'].apply(lambda x: x ** (1 - df_mj['rho'][0]))\n",
    "omega['T_k'] = omega['T_k'] * omega['lambda_k']\n",
    "omega = omega.drop(columns=['lambda_k'])\n",
    "omega['omega'] = omega['T_k'] / omega['T_k'].sum()\n",
    "omega = omega.drop(columns=['T_k'])\n",
    "\n",
    "pi_c['t_ckt'] = pi_c['t_ckt'].apply(lambda x: x ** (1 / (1 - df_mj['rho'][0])))\n",
    "pi_c['t_ckt'] = pi_c['t_ckt'] / pi_c['lambda_k']\n",
    "pi_c = pi_c.drop(columns=['lambda_k'])\n",
    "pi_c = pi_c.merge(omega, on='occ')\n",
    "pi_c['pi_c'] = pi_c['t_ckt'] * pi_c['omega']\n",
    "pi_c = pi_c.drop(columns=['t_ckt', 'omega'])\n",
    "pi_c = pi_c.groupby('city').sum().reset_index()\n",
    "pi_c = pi_c.drop(columns=['occ'])"
   ]
  },
  {
   "cell_type": "code",
   "execution_count": 20,
   "metadata": {},
   "outputs": [],
   "source": [
    "df_tck = df_tck.pivot(index='city', columns='occ', values='t_ckt').reset_index()"
   ]
  }
 ],
 "metadata": {
  "kernelspec": {
   "display_name": "base",
   "language": "python",
   "name": "python3"
  },
  "language_info": {
   "codemirror_mode": {
    "name": "ipython",
    "version": 3
   },
   "file_extension": ".py",
   "mimetype": "text/x-python",
   "name": "python",
   "nbconvert_exporter": "python",
   "pygments_lexer": "ipython3",
   "version": "3.12.2"
  }
 },
 "nbformat": 4,
 "nbformat_minor": 2
}
