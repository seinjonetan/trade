{
 "cells": [
  {
   "cell_type": "code",
   "execution_count": 36,
   "metadata": {},
   "outputs": [],
   "source": [
    "import numpy as np \n",
    "import pandas as pd\n",
    "import statsmodels.api as sm\n",
    "from scipy.special import gamma"
   ]
  },
  {
   "cell_type": "code",
   "execution_count": 37,
   "metadata": {},
   "outputs": [],
   "source": [
    "cz = pd.read_csv('../data/raw/archive/cz_county.csv')\n",
    "cz = cz.dropna()\n",
    "cz['LMA/CZ'] = cz['LMA/CZ'].astype(str).str[:-2].astype(int)\n",
    "idx = cz.groupby(['LMA/CZ'])['Labor Force'].idxmax()\n",
    "cz = cz.loc[idx].reset_index(drop=True)\n",
    "cz = cz[['LMA/CZ', 'County Name']].set_index('LMA/CZ')\n",
    "cz['County Name'] = cz['County Name'].str.replace('\"', '')"
   ]
  },
  {
   "cell_type": "code",
   "execution_count": 38,
   "metadata": {},
   "outputs": [],
   "source": [
    "theta = 3\n",
    "rho = 0.5\n",
    "alpha = 7\n",
    "eta = 1.65"
   ]
  },
  {
   "cell_type": "code",
   "execution_count": 39,
   "metadata": {},
   "outputs": [],
   "source": [
    "df_employment = pd.read_csv('../data/processed/city_occ_employment/city_occ_e_2019.csv')\n",
    "df_employment = df_employment.drop(columns=['other'])\n",
    "df_employment['COMZONE'] = df_employment['COMZONE'].map(cz['County Name'])\n",
    "df_employment = df_employment.set_index('COMZONE')\n",
    "\n",
    "rows = df_employment.index\n",
    "cols = df_employment.columns\n",
    "\n",
    "df_employment['cz_total'] = df_employment.sum(axis=1)\n",
    "df_employment.loc['occ_total'] = df_employment.sum(axis=0)\n",
    "df_employment = df_employment.div(df_employment['cz_total'], axis=0)\n",
    "\n",
    "omega_k = df_employment.loc['occ_total'].drop('cz_total').to_numpy()\n",
    "df_employment = df_employment.drop(index='occ_total').drop(columns='cz_total').to_numpy()\n",
    "\n",
    "df_wages = pd.DataFrame((df_employment ** (1 / theta)) * (omega_k ** (rho / (theta * (1 - rho)))))\n",
    "df_wages.columns = cols\n",
    "df_wages.index = rows"
   ]
  },
  {
   "cell_type": "code",
   "execution_count": 40,
   "metadata": {},
   "outputs": [
    {
     "name": "stderr",
     "output_type": "stream",
     "text": [
      "/tmp/ipykernel_1962596/1754478259.py:15: RuntimeWarning: divide by zero encountered in power\n",
      "  T_ck_left = (w_ck ** (- (alpha) / (1 - alpha))) / (Z_ck ** (1 / (1 - alpha)))\n",
      "/tmp/ipykernel_1962596/1754478259.py:17: RuntimeWarning: divide by zero encountered in log\n",
      "  T_ck = np.log(T_ck_left * T_ck_right)\n"
     ]
    }
   ],
   "source": [
    "w_ck = df_wages.fillna(0).to_numpy()\n",
    "\n",
    "lambda_k = (w_ck ** theta).sum(axis=0)\n",
    "Z_ck = gamma(theta - 1 / theta) * (w_ck ** theta) * (lambda_k ** (- rho)) * np.sum((lambda_k ** (1 - rho)) ** ((1 - theta) / theta), axis=0)\n",
    "\n",
    "# T_ck_top = w_ck\n",
    "# T_ck_bottom = (\n",
    "#     gamma((1 - theta) / theta) * \n",
    "#     (w_ck ** theta) * \n",
    "#     (lambda_k ** (- rho)) *  \n",
    "#     ((lambda_k ** (1 - rho)).sum(axis=0) ** ((1 - theta) / theta))\n",
    "# )\n",
    "# T_ck = pd.DataFrame(np.log(T_ck_top / np.abs(T_ck_bottom)))\n",
    "\n",
    "T_ck_left = (w_ck ** (- (alpha) / (1 - alpha))) / (Z_ck ** (1 / (1 - alpha)))\n",
    "T_ck_right = np.repeat(np.sum(w_ck * Z_ck, axis=0).reshape(1, -1), w_ck.shape[0], axis=0) ** (1 / (1 - alpha))\n",
    "T_ck = np.log(T_ck_left * T_ck_right)\n",
    "T_ck = pd.DataFrame(np.where(np.isinf(T_ck), np.nan, T_ck))\n",
    "\n",
    "T_ck.columns = df_wages.columns\n",
    "T_ck['COMZONE'] = df_wages.index\n",
    "T_ck = pd.melt(T_ck, id_vars=['COMZONE'], var_name='occupation', value_name='wage')"
   ]
  },
  {
   "cell_type": "code",
   "execution_count": 41,
   "metadata": {},
   "outputs": [],
   "source": [
    "model = sm.OLS.from_formula('wage ~ C(occupation) + C(COMZONE)', data=T_ck)\n",
    "model = model.fit()\n",
    "coefficients = model.params\n",
    "T_ck['residual'] = model.resid\n",
    "\n",
    "T_k = pd.DataFrame(coefficients[coefficients.index.str.contains('occupation')]).reset_index()\n",
    "T_k['occupation'] = T_k['index'].str.extract(r'C\\(occupation\\)\\[T\\.(.*?)\\]')\n",
    "T_k = T_k.drop(columns=['index']).rename(columns={0: 'coefficient'})\n",
    "T_k = T_k[['occupation', 'coefficient']]\n",
    "T_k['coefficient'] = np.exp(T_k['coefficient'])\n",
    "\n",
    "T_c = pd.DataFrame(coefficients[coefficients.index.str.contains('COMZONE')]).reset_index()\n",
    "T_c['COMZONE'] = T_c['index'].str.extract(r'C\\(COMZONE\\)\\[T\\.(.*?)\\]')\n",
    "T_c = T_c.drop(columns=['index']).rename(columns={0: 'coefficient'})\n",
    "T_c = T_c[['COMZONE', 'coefficient']]\n",
    "T_c['coefficient'] = np.exp(T_c['coefficient'])\n",
    "\n",
    "t_ck = T_ck.pivot(index='COMZONE', columns='occupation', values='residual')\n",
    "t_ck = t_ck.apply(lambda x: np.exp(x))\n",
    "\n",
    "# T_c.to_csv('params/T_c.csv', index=False)\n",
    "# T_k.to_csv('params/T_k.csv', index=False)\n",
    "# t_ck.to_csv('params/t_ck.csv')"
   ]
  }
 ],
 "metadata": {
  "kernelspec": {
   "display_name": "base",
   "language": "python",
   "name": "python3"
  },
  "language_info": {
   "codemirror_mode": {
    "name": "ipython",
    "version": 3
   },
   "file_extension": ".py",
   "mimetype": "text/x-python",
   "name": "python",
   "nbconvert_exporter": "python",
   "pygments_lexer": "ipython3",
   "version": "3.12.2"
  }
 },
 "nbformat": 4,
 "nbformat_minor": 2
}
