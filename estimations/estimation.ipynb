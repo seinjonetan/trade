{
 "cells": [
  {
   "cell_type": "code",
   "execution_count": 50,
   "metadata": {},
   "outputs": [],
   "source": [
    "import numpy as np \n",
    "import pandas as pd\n",
    "import statsmodels.api as sm\n",
    "from scipy.special import gamma"
   ]
  },
  {
   "cell_type": "code",
   "execution_count": 51,
   "metadata": {},
   "outputs": [],
   "source": [
    "cz = pd.read_csv('../data/raw/archive/cz_county.csv')\n",
    "cz = cz.dropna()\n",
    "cz['LMA/CZ'] = cz['LMA/CZ'].astype(str).str[:-2].astype(int)\n",
    "idx = cz.groupby(['LMA/CZ'])['Labor Force'].idxmax()\n",
    "cz = cz.loc[idx].reset_index(drop=True)\n",
    "cz = cz[['LMA/CZ', 'County Name']].set_index('LMA/CZ')"
   ]
  },
  {
   "cell_type": "code",
   "execution_count": 52,
   "metadata": {},
   "outputs": [],
   "source": [
    "df_wages = pd.read_csv('../data/processed/city_occ_wage/city_occ_w_2019.csv')\n",
    "df_wages = df_wages.drop(columns=['other'])\n",
    "df_wages['COMZONE'] = df_wages['COMZONE'].map(cz['County Name'])\n",
    "df_wages = df_wages.set_index('COMZONE')"
   ]
  },
  {
   "cell_type": "code",
   "execution_count": 53,
   "metadata": {},
   "outputs": [
    {
     "name": "stderr",
     "output_type": "stream",
     "text": [
      "/tmp/ipykernel_1916049/1365873024.py:17: RuntimeWarning: invalid value encountered in divide\n",
      "  T_ck = pd.DataFrame(np.log(T_ck_top / T_ck_bottom))\n"
     ]
    }
   ],
   "source": [
    "theta = 3\n",
    "rho = 0.5\n",
    "alpha = 7\n",
    "eta = 1.65\n",
    "\n",
    "w_ck = df_wages.fillna(0).to_numpy()\n",
    "\n",
    "lambda_k = (w_ck ** theta).sum(axis=0)\n",
    "\n",
    "T_ck_top = w_ck\n",
    "T_ck_bottom = (\n",
    "    gamma((theta - 1) / theta) * \n",
    "    (w_ck ** theta) * \n",
    "    (lambda_k ** (- rho)) *  \n",
    "    ((lambda_k ** (1 - rho)).sum(axis=0) ** ((1 - theta) / theta))\n",
    ")\n",
    "T_ck = pd.DataFrame(np.log(T_ck_top / T_ck_bottom))\n",
    "T_ck.columns = df_wages.columns\n",
    "T_ck['COMZONE'] = df_wages.index\n",
    "T_ck = pd.melt(T_ck, id_vars=['COMZONE'], var_name='occupation', value_name='wage')"
   ]
  },
  {
   "cell_type": "code",
   "execution_count": 55,
   "metadata": {},
   "outputs": [],
   "source": [
    "model = sm.OLS.from_formula('wage ~ C(occupation) + C(COMZONE)', data=T_ck)\n",
    "model = model.fit()\n",
    "coefficients =  - model.params\n",
    "T_ck['residual'] = model.resid\n",
    "\n",
    "T_k = pd.DataFrame(coefficients[coefficients.index.str.contains('occupation')]).reset_index()\n",
    "T_k['occupation'] = T_k['index'].str.extract(r'C\\(occupation\\)\\[T\\.(.*?)\\]')\n",
    "T_k = T_k.drop(columns=['index']).rename(columns={0: 'coefficient'})\n",
    "T_k = T_k[['occupation', 'coefficient']]\n",
    "T_k['coefficient'] = np.exp(T_k['coefficient'])\n",
    "\n",
    "T_c = pd.DataFrame(coefficients[coefficients.index.str.contains('COMZONE')]).reset_index()\n",
    "T_c['COMZONE'] = T_c['index'].str.extract(r'C\\(COMZONE\\)\\[T\\.(.*?)\\]')\n",
    "T_c = T_c.drop(columns=['index']).rename(columns={0: 'coefficient'})\n",
    "T_c = T_c[['COMZONE', 'coefficient']]\n",
    "T_c['coefficient'] = np.exp(T_c['coefficient'])\n",
    "\n",
    "t_ck = T_ck.pivot(index='COMZONE', columns='occupation', values='residual')\n",
    "t_ck = t_ck.apply(lambda x: np.exp(x))\n",
    "\n",
    "T_c.to_csv('params/T_c.csv', index=False)\n",
    "T_k.to_csv('params/T_k.csv', index=False)\n",
    "t_ck.to_csv('params/t_ck.csv')"
   ]
  }
 ],
 "metadata": {
  "kernelspec": {
   "display_name": "base",
   "language": "python",
   "name": "python3"
  },
  "language_info": {
   "codemirror_mode": {
    "name": "ipython",
    "version": 3
   },
   "file_extension": ".py",
   "mimetype": "text/x-python",
   "name": "python",
   "nbconvert_exporter": "python",
   "pygments_lexer": "ipython3",
   "version": "3.12.2"
  }
 },
 "nbformat": 4,
 "nbformat_minor": 2
}
