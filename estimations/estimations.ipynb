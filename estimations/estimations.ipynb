{
 "cells": [
  {
   "cell_type": "code",
   "execution_count": 1,
   "metadata": {},
   "outputs": [],
   "source": [
    "import pandas as pd\n",
    "import statsmodels.api as sm\n",
    "import numpy as np"
   ]
  },
  {
   "cell_type": "code",
   "execution_count": 2,
   "metadata": {},
   "outputs": [],
   "source": [
    "df = pd.read_csv('../data/occupation_shares.csv')\n",
    "df = df.iloc[:-1]\n",
    "df.iloc[:, 1:] = df.iloc[:, 1:].apply(pd.to_numeric, errors='coerce').fillna(0)\n",
    "df = df.set_index('MET2013')"
   ]
  },
  {
   "cell_type": "code",
   "execution_count": 3,
   "metadata": {},
   "outputs": [],
   "source": [
    "# def get_shifter(pi_c, pi_c_prime, rho_k=0.5):\n",
    "#     return (pi_c / pi_c_prime)**(1 - rho_k)\n",
    "\n",
    "# # Assuming df is your DataFrame\n",
    "# df_new = df.copy()\n",
    "# df_new = df_new.iloc[1:]\n",
    "\n",
    "# for column in df_new.columns:\n",
    "#     pi_c_prime = df_new.iloc[0][column]\n",
    "#     df_new[column] = df_new[column].apply(lambda x: get_shifter(x, pi_c_prime))\n",
    "# df_new.to_csv('shifter_estimates.csv')"
   ]
  },
  {
   "cell_type": "code",
   "execution_count": 4,
   "metadata": {},
   "outputs": [],
   "source": [
    "df_new = df.copy()\n",
    "df_new = df_new.iloc[1:]\n",
    "df_new.drop(columns=['other', 'city_total'], inplace=True)\n",
    "# df_new = df_new.div(df_new.iloc[0], axis='columns')\n",
    "data_flat = df_new.stack().reset_index()\n",
    "data_flat.columns = ['city', 'occupation', 'value']\n",
    "data_dummies = pd.get_dummies(data_flat, columns=['occupation', 'city'], drop_first=True)\n",
    "\n",
    "X = data_dummies.drop('value', axis=1)\n",
    "y = data_dummies['value']\n",
    "model = sm.OLS(y, X).fit()\n",
    "\n",
    "coef = model.params\n",
    "occupation_coef = coef[coef.index.str.startswith('occupation_')]\n",
    "city_coef = coef[coef.index.str.startswith('city_')]\n",
    "occupation_coef = pd.DataFrame(occupation_coef)\n",
    "occupation_coef.columns = ['coef']\n",
    "occupation_coef.index = occupation_coef.index.str.replace('occupation_', '')\n",
    "city_coef = pd.DataFrame(city_coef)\n",
    "city_coef.index = city_coef.index.str.replace('city_', '')\n",
    "city_coef.columns = ['coef']\n",
    "\n",
    "occupation_coef.to_csv('occupation_coef.csv')\n",
    "city_coef.to_csv('city_coef.csv')"
   ]
  },
  {
   "cell_type": "code",
   "execution_count": 5,
   "metadata": {},
   "outputs": [],
   "source": [
    "resid = model.resid\n",
    "data_dummies['resid'] = resid\n",
    "resid = data_dummies['resid'].values\n",
    "resid = resid.reshape(df_new.shape[0], df_new.shape[1])\n",
    "resid = pd.DataFrame(resid, index=df_new.index, columns=df_new.columns)\n",
    "resid['city_total'] = resid.sum(axis=1)\n",
    "resid.to_csv('residuals.csv')"
   ]
  },
  {
   "cell_type": "code",
   "execution_count": 6,
   "metadata": {},
   "outputs": [
    {
     "name": "stderr",
     "output_type": "stream",
     "text": [
      "/tmp/ipykernel_284007/1977351028.py:6: FutureWarning: Series.__getitem__ treating keys as positions is deprecated. In a future version, integer keys will always be treated as labels (consistent with DataFrame behavior). To access a value by position, use `ser.iloc[pos]`\n",
      "  ammenities['shifter_normalized'] = ammenities['shifter_normalized'] / ammenities['shifter_normalized'][1]\n"
     ]
    }
   ],
   "source": [
    "ammenities = resid['city_total']\n",
    "ammenities = pd.DataFrame(ammenities)\n",
    "ammenities['city_coef'] = city_coef['coef']\n",
    "ammenities['shifter'] = ammenities['city_coef'] / ammenities['city_total']\n",
    "ammenities['shifter_normalized'] = ammenities['shifter'] ** 2 \n",
    "ammenities['shifter_normalized'] = ammenities['shifter_normalized'] / ammenities['shifter_normalized'][1]\n",
    "ammenities.to_csv('ammenities.csv')"
   ]
  }
 ],
 "metadata": {
  "kernelspec": {
   "display_name": "base",
   "language": "python",
   "name": "python3"
  },
  "language_info": {
   "codemirror_mode": {
    "name": "ipython",
    "version": 3
   },
   "file_extension": ".py",
   "mimetype": "text/x-python",
   "name": "python",
   "nbconvert_exporter": "python",
   "pygments_lexer": "ipython3",
   "version": "3.1.undefined"
  }
 },
 "nbformat": 4,
 "nbformat_minor": 2
}
