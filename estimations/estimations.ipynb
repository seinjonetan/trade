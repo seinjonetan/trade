{
 "cells": [
  {
   "cell_type": "code",
   "execution_count": 6,
   "metadata": {},
   "outputs": [],
   "source": [
    "import pandas as pd\n",
    "import numpy as np\n",
    "from scipy.optimize import minimize, Bounds"
   ]
  },
  {
   "cell_type": "code",
   "execution_count": 7,
   "metadata": {},
   "outputs": [],
   "source": [
    "df = pd.read_csv('../data/occupation_shares.csv')\n",
    "df = df.iloc[:-1]\n",
    "df = df.apply(pd.to_numeric, errors='coerce').fillna(0)\n",
    "df = df.set_index('MET2013')"
   ]
  },
  {
   "cell_type": "code",
   "execution_count": 8,
   "metadata": {},
   "outputs": [],
   "source": [
    "# # Assuming df is your DataFrame\n",
    "# def objective(rho_k, df):\n",
    "#     occupations = df.columns.drop('city_total')\n",
    "#     moments_real = df.mean()  # Calculate the moments of the real data\n",
    "#     error = 0\n",
    "#     for _, row in df.iterrows():\n",
    "#         estimated_total = np.sum([row[occupation]**(1 - rho_k[i]) for i, occupation in enumerate(occupations)])\n",
    "#         moments_simulated = np.mean(estimated_total)  # Calculate the moments of the simulated data\n",
    "#         error += np.sum((moments_real - moments_simulated)**2)  # Minimize the squared difference between the moments\n",
    "#     return error\n",
    "\n",
    "# # Initial guess for rho_k\n",
    "# rho_k_initial_guess = [0.5] * len(df.columns.drop('city_total'))\n",
    "\n",
    "# # Define bounds\n",
    "# bounds = Bounds([0]*len(rho_k_initial_guess), [1]*len(rho_k_initial_guess))\n",
    "\n",
    "# # Use scipy's minimize function to find the best rho_k\n",
    "# result = minimize(objective, rho_k_initial_guess, args=(df,), bounds=bounds)\n",
    "\n",
    "# # The optimal rho_k is stored in the x attribute of the result\n",
    "# rho_k_optimal = result.x"
   ]
  },
  {
   "cell_type": "code",
   "execution_count": 9,
   "metadata": {},
   "outputs": [],
   "source": [
    "# rho_k_optimal = np.append(rho_k_optimal, 0)\n",
    "# df.loc['rho_k'] = rho_k_optimal\n",
    "# df.to_csv('rho_estimates.csv')"
   ]
  },
  {
   "cell_type": "code",
   "execution_count": 10,
   "metadata": {},
   "outputs": [
    {
     "name": "stderr",
     "output_type": "stream",
     "text": [
      "/tmp/ipykernel_23317/3569516128.py:8: FutureWarning: DataFrame.applymap has been deprecated. Use DataFrame.map instead.\n",
      "  df_new = df.applymap(lambda x: get_shifter(x, pi_c_prime))\n"
     ]
    }
   ],
   "source": [
    "def get_shifter(pi_c, pi_c_prime, rho_k=0.5):\n",
    "    return (pi_c / pi_c_prime)**(1 - rho_k)\n",
    "\n",
    "# Assuming df is your DataFrame\n",
    "df_new = df.copy()\n",
    "\n",
    "pi_c_prime = df.iloc[0, 0]\n",
    "df_new = df.applymap(lambda x: get_shifter(x, pi_c_prime))\n",
    "df_new.to_csv('shifter_estimates.csv')"
   ]
  }
 ],
 "metadata": {
  "kernelspec": {
   "display_name": "base",
   "language": "python",
   "name": "python3"
  },
  "language_info": {
   "codemirror_mode": {
    "name": "ipython",
    "version": 3
   },
   "file_extension": ".py",
   "mimetype": "text/x-python",
   "name": "python",
   "nbconvert_exporter": "python",
   "pygments_lexer": "ipython3",
   "version": "3.12.2"
  }
 },
 "nbformat": 4,
 "nbformat_minor": 2
}
