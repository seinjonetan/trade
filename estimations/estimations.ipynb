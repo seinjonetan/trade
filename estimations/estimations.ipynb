{
 "cells": [
  {
   "cell_type": "code",
   "execution_count": 6,
   "metadata": {},
   "outputs": [],
   "source": [
    "import pandas as pd\n",
    "import numpy as np\n",
    "from scipy.optimize import newton"
   ]
  },
  {
   "cell_type": "code",
   "execution_count": 2,
   "metadata": {},
   "outputs": [],
   "source": [
    "df = pd.read_csv('../data/occupation_shares.csv')\n",
    "df = df.iloc[:-1]\n",
    "df = df.apply(pd.to_numeric, errors='coerce').fillna(0)\n",
    "df = df.set_index('MET2013')"
   ]
  },
  {
   "cell_type": "code",
   "execution_count": 12,
   "metadata": {},
   "outputs": [],
   "source": [
    "# # Convert DataFrame to dictionary of vectors\n",
    "# vectors = df.to_dict('list')\n",
    "\n",
    "# # Normalize each vector\n",
    "# for key in vectors:\n",
    "#     vectors[key] = np.array(vectors[key]) / np.linalg.norm(vectors[key])\n",
    "\n",
    "# def func(rho, column, target):\n",
    "#     return np.sum(column ** (1 / (1 - rho))) - target\n",
    "\n",
    "# def solve_rho(column, target):\n",
    "#     rho_initial_guess = 0.5\n",
    "#     rho_solution = newton(func, rho_initial_guess, args=(column, target))\n",
    "#     return rho_solution\n",
    "\n",
    "# # Remove the last key-value pair from vectors\n",
    "# last_key = list(vectors.keys())[-1]\n",
    "# last_column = vectors.pop(last_key)\n",
    "\n",
    "# # Apply the solve_rho function to each vector\n",
    "# rhos = {key: solve_rho(column, sum(column)) for key, column in vectors.items()}"
   ]
  },
  {
   "cell_type": "code",
   "execution_count": 10,
   "metadata": {},
   "outputs": [
    {
     "name": "stderr",
     "output_type": "stream",
     "text": [
      "/tmp/ipykernel_23317/3569516128.py:8: FutureWarning: DataFrame.applymap has been deprecated. Use DataFrame.map instead.\n",
      "  df_new = df.applymap(lambda x: get_shifter(x, pi_c_prime))\n"
     ]
    }
   ],
   "source": [
    "def get_shifter(pi_c, pi_c_prime, rho_k=0.5):\n",
    "    return (pi_c / pi_c_prime)**(1 - rho_k)\n",
    "\n",
    "# Assuming df is your DataFrame\n",
    "df_new = df.copy()\n",
    "\n",
    "pi_c_prime = df.iloc[0, 0]\n",
    "df_new = df.applymap(lambda x: get_shifter(x, pi_c_prime))\n",
    "df_new.to_csv('shifter_estimates.csv')"
   ]
  }
 ],
 "metadata": {
  "kernelspec": {
   "display_name": "base",
   "language": "python",
   "name": "python3"
  },
  "language_info": {
   "codemirror_mode": {
    "name": "ipython",
    "version": 3
   },
   "file_extension": ".py",
   "mimetype": "text/x-python",
   "name": "python",
   "nbconvert_exporter": "python",
   "pygments_lexer": "ipython3",
   "version": "3.12.2"
  }
 },
 "nbformat": 4,
 "nbformat_minor": 2
}
