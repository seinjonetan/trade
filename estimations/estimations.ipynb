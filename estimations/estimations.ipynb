{
 "cells": [
  {
   "cell_type": "code",
   "execution_count": 21,
   "metadata": {},
   "outputs": [],
   "source": [
    "import pandas as pd\n",
    "import numpy as np\n",
    "import matplotlib.pyplot as plt\n",
    "import seaborn as sns\n",
    "from matplotlib import cm\n",
    "from matplotlib.colors import ListedColormap, LinearSegmentedColormap"
   ]
  },
  {
   "cell_type": "code",
   "execution_count": 22,
   "metadata": {},
   "outputs": [],
   "source": [
    "df = pd.read_csv('../data/occupation_shares.csv')\n",
    "df = df.iloc[:-1]\n",
    "df.iloc[:, 1:] = df.iloc[:, 1:].apply(pd.to_numeric, errors='coerce').fillna(0)\n",
    "df = df.set_index('MET2013')"
   ]
  },
  {
   "cell_type": "code",
   "execution_count": 23,
   "metadata": {},
   "outputs": [],
   "source": [
    "def get_shifter(pi_c, pi_c_prime, rho_k=0.5):\n",
    "    return (pi_c / pi_c_prime)**(1 - rho_k)\n",
    "\n",
    "# Assuming df is your DataFrame\n",
    "df_new = df.copy()\n",
    "df_new = df_new.iloc[1:]\n",
    "\n",
    "for column in df_new.columns:\n",
    "    pi_c_prime = df_new.iloc[0][column]\n",
    "    df_new[column] = df_new[column].apply(lambda x: get_shifter(x, pi_c_prime))\n",
    "df_new.to_csv('shifter_estimates.csv')"
   ]
  }
 ],
 "metadata": {
  "kernelspec": {
   "display_name": "base",
   "language": "python",
   "name": "python3"
  },
  "language_info": {
   "codemirror_mode": {
    "name": "ipython",
    "version": 3
   },
   "file_extension": ".py",
   "mimetype": "text/x-python",
   "name": "python",
   "nbconvert_exporter": "python",
   "pygments_lexer": "ipython3",
   "version": "3.1.undefined"
  }
 },
 "nbformat": 4,
 "nbformat_minor": 2
}
