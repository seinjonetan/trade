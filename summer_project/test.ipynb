{
 "cells": [
  {
   "cell_type": "code",
   "execution_count": 1,
   "metadata": {},
   "outputs": [
    {
     "name": "stdout",
     "output_type": "stream",
     "text": [
      "[1.99997424 2.21690335 0.97155077 1.42687062 1.80154747 2.87891105\n",
      " 0.46878916 1.84654802 2.26474592 2.36839102]\n"
     ]
    }
   ],
   "source": [
    "from scipy.stats import weibull_min\n",
    "\n",
    "# Define the shape and scale parameters for the Fréchet distribution\n",
    "shape = 2.0\n",
    "scale = 2.0  # Change this value to alter the scale parameter\n",
    "\n",
    "# Draw 10 samples from the Fréchet distribution\n",
    "samples = weibull_min.rvs(shape, scale=scale, size=10)\n",
    "\n",
    "print(samples)"
   ]
  },
  {
   "cell_type": "code",
   "execution_count": 2,
   "metadata": {},
   "outputs": [
    {
     "data": {
      "image/png": "[encoded data removed]",
      "text/plain": [
       "<Figure size 640x480 with 1 Axes>"
      ]
     },
     "metadata": {},
     "output_type": "display_data"
    },
    {
     "name": "stdout",
     "output_type": "stream",
     "text": [
      "[[1.19970509 1.78283897]\n",
      " [0.31103691 1.00681571]\n",
      " [2.71719502 2.22909775]\n",
      " [2.20327892 2.21299889]\n",
      " [1.22929593 2.13886567]\n",
      " [2.44447263 1.43683646]\n",
      " [0.84407372 1.3057484 ]\n",
      " [1.45035248 1.25865202]\n",
      " [3.22480385 2.23240699]\n",
      " [1.26951638 1.50939802]]\n"
     ]
    }
   ],
   "source": [
    "import numpy as np\n",
    "from scipy.stats import norm, weibull_min\n",
    "from sklearn.datasets import make_spd_matrix\n",
    "import matplotlib.pyplot as plt\n",
    "\n",
    "# Define the shape and scale parameters for the Weibull distribution\n",
    "shape = 2.0\n",
    "scale = 2.0\n",
    "\n",
    "# Define the correlation matrix (must be positive semi-definite)\n",
    "corr_matrix = np.array([[1, 0.5], \n",
    "                        [0.5, 1]])\n",
    "\n",
    "# Generate samples from a multivariate normal distribution\n",
    "mvnorm_samples = np.random.multivariate_normal(mean=[0, 0], cov=corr_matrix, size=10)\n",
    "\n",
    "# Apply the cumulative distribution function of the normal distribution\n",
    "u = norm.cdf(mvnorm_samples)\n",
    "\n",
    "# Apply the inverse of the Weibull cumulative distribution function\n",
    "samples = weibull_min.ppf(u, shape, scale=scale)\n",
    "\n",
    "# Plot the distribution of the samples\n",
    "plt.hist(samples, bins='auto', density=True)\n",
    "plt.title('Distribution of Samples')\n",
    "plt.xlabel('Value')\n",
    "plt.ylabel('Frequency')\n",
    "plt.show()\n",
    "\n",
    "print(samples)"
   ]
  },
  {
   "cell_type": "code",
   "execution_count": 3,
   "metadata": {},
   "outputs": [
    {
     "name": "stdout",
     "output_type": "stream",
     "text": [
      "[[0.17793288 1.51841927]\n",
      " [0.15060621 0.51930861]\n",
      " [0.29760454 1.98495274]\n",
      " [0.97343775 1.23526672]\n",
      " [0.35225299 1.52597677]\n",
      " [1.91368676 0.3119906 ]\n",
      " [0.75923043 0.13124918]\n",
      " [0.89636096 0.48076765]\n",
      " [3.08713066 0.09530583]\n",
      " [0.95110195 0.37858047]]\n"
     ]
    }
   ],
   "source": [
    "# Generate a matrix of random weights that sum to 1 for each row\n",
    "weights = np.random.dirichlet(np.ones(samples.shape[1]), size=samples.shape[0])\n",
    "\n",
    "# Apply the weights to the sample matrix\n",
    "weighted_samples = samples * weights\n",
    "\n",
    "print(weighted_samples)"
   ]
  },
  {
   "cell_type": "code",
   "execution_count": 4,
   "metadata": {},
   "outputs": [
    {
     "name": "stdout",
     "output_type": "stream",
     "text": [
      "[[[1.85280758 2.71339657]\n",
      "  [1.4704762  0.80081659]\n",
      "  [1.51300884 1.83579089]\n",
      "  [1.87229277 1.84084726]\n",
      "  [0.95325042 1.44041484]]\n",
      "\n",
      " [[1.36201657 1.37483633]\n",
      "  [3.36916391 2.85408162]\n",
      "  [2.35822323 3.08990485]\n",
      "  [2.50717014 2.16134681]\n",
      "  [1.69526513 1.38683991]]\n",
      "\n",
      " [[3.2301678  1.70210622]\n",
      "  [1.67703286 1.83979946]\n",
      "  [0.94789132 2.78415403]\n",
      "  [2.56049312 2.23680736]\n",
      "  [1.69804243 1.8286003 ]]\n",
      "\n",
      " [[2.36682139 1.58321751]\n",
      "  [0.91207277 0.94579901]\n",
      "  [0.92191694 1.48361235]\n",
      "  [3.36893778 1.30202169]\n",
      "  [1.325709   0.80754852]]\n",
      "\n",
      " [[2.09187721 2.40959242]\n",
      "  [2.22881522 1.21562243]\n",
      "  [3.10656791 1.25365968]\n",
      "  [1.97293123 1.91782749]\n",
      "  [1.5845592  2.30733213]]\n",
      "\n",
      " [[1.21361306 2.65584291]\n",
      "  [2.45249547 3.88841405]\n",
      "  [2.41455929 2.19850047]\n",
      "  [0.34784475 0.4239072 ]\n",
      "  [1.55353121 2.27310085]]\n",
      "\n",
      " [[1.09305117 0.68127019]\n",
      "  [1.03224601 1.36945104]\n",
      "  [2.5028812  1.41848037]\n",
      "  [0.95755733 1.53823484]\n",
      "  [1.49771173 1.80080917]]\n",
      "\n",
      " [[3.26232067 1.07621672]\n",
      "  [0.92399737 1.78296421]\n",
      "  [0.85381604 3.12877725]\n",
      "  [1.07352139 0.05177272]\n",
      "  [1.51904469 2.32344015]]\n",
      "\n",
      " [[1.59445943 1.31034262]\n",
      "  [1.96518607 0.79994804]\n",
      "  [0.78248453 1.71230731]\n",
      "  [1.59975674 2.1381568 ]\n",
      "  [2.29443247 2.01240256]]\n",
      "\n",
      " [[1.28793236 1.2707264 ]\n",
      "  [0.49547248 0.25641208]\n",
      "  [4.30442985 2.55956057]\n",
      "  [1.05863455 1.44369562]\n",
      "  [2.58980671 1.17653379]]]\n"
     ]
    }
   ],
   "source": [
    "def prod_draws(n_draws, n_samples, shape, scale, corr_matrix):\n",
    "    import numpy as np\n",
    "    from scipy.stats import norm, weibull_min\n",
    "\n",
    "    # Get the number of factors from the correlation matrix\n",
    "    n_factors = corr_matrix.shape[0]\n",
    "\n",
    "    # Generate samples from a multivariate normal distribution\n",
    "    mvnorm_samples = np.random.multivariate_normal(mean=np.zeros(n_factors), cov=corr_matrix, size=n_draws * n_samples)\n",
    "\n",
    "    # Apply the cumulative distribution function of the normal distribution\n",
    "    u = norm.cdf(mvnorm_samples)\n",
    "\n",
    "    # Apply the inverse of the Weibull cumulative distribution function\n",
    "    samples = weibull_min.ppf(u, shape, scale=scale)\n",
    "\n",
    "    # Reshape the samples to have the same shape as the multivariate normal samples\n",
    "    samples = samples.reshape(n_draws, n_samples, n_factors)\n",
    "\n",
    "    return samples\n",
    "\n",
    "# Define the parameters for the Fréchet distribution\n",
    "shape = 2.0\n",
    "scale = 2.0\n",
    "\n",
    "# Define the correlation matrix\n",
    "corr_matrix = np.array([[1, 0.5], \n",
    "                        [0.5, 1]])\n",
    "\n",
    "# Generate 10 draws of 5 samples each\n",
    "samples = prod_draws(10, 5, shape, scale, corr_matrix)\n",
    "\n",
    "print(samples)"
   ]
  },
  {
   "cell_type": "code",
   "execution_count": 5,
   "metadata": {},
   "outputs": [
    {
     "name": "stdout",
     "output_type": "stream",
     "text": [
      "[[[0.18513367 0.27112424]\n",
      "  [0.373551   0.20343467]\n",
      "  [0.37956311 0.46053829]\n",
      "  [0.06487064 0.06378113]\n",
      "  [0.34367655 0.51931454]]\n",
      "\n",
      " [[0.60759189 0.61331075]\n",
      "  [0.09766257 0.08273178]\n",
      "  [0.35331915 0.46294284]\n",
      "  [0.10827167 0.09333736]\n",
      "  [0.56266938 0.46030107]]\n",
      "\n",
      " [[0.14485339 0.07632912]\n",
      "  [0.26434097 0.28999693]\n",
      "  [0.19517966 0.57328326]\n",
      "  [0.55703732 0.48661922]\n",
      "  [0.63518972 0.68402773]]\n",
      "\n",
      " [[0.26372457 0.17641101]\n",
      "  [0.2758502  0.28605047]\n",
      "  [0.02121822 0.03414582]\n",
      "  [0.8279474  0.31998379]\n",
      "  [0.42072259 0.25628091]]\n",
      "\n",
      " [[0.5053738  0.5821302 ]\n",
      "  [0.747003   0.40742435]\n",
      "  [0.03562444 0.01437629]\n",
      "  [0.07707978 0.07492695]\n",
      "  [0.59059411 0.85998476]]\n",
      "\n",
      " [[0.03493538 0.07645178]\n",
      "  [0.3522666  0.55851618]\n",
      "  [1.75734112 1.60009129]\n",
      "  [0.0341061  0.041564  ]\n",
      "  [0.00266848 0.00390447]]\n",
      "\n",
      " [[0.34995693 0.21811899]\n",
      "  [0.1492607  0.19801986]\n",
      "  [0.11199853 0.06347393]\n",
      "  [0.41932022 0.67360246]\n",
      "  [0.07875398 0.09469171]]\n",
      "\n",
      " [[0.10611532 0.0350067 ]\n",
      "  [0.25858079 0.49896277]\n",
      "  [0.08419924 0.30854499]\n",
      "  [0.17619927 0.00849756]\n",
      "  [0.6454042  0.98717176]]\n",
      "\n",
      " [[0.6222494  0.51137074]\n",
      "  [0.29773003 0.1211939 ]\n",
      "  [0.1313021  0.28732778]\n",
      "  [0.02522954 0.03372057]\n",
      "  [0.63020746 0.55274284]]\n",
      "\n",
      " [[0.03125446 0.03083692]\n",
      "  [0.06430053 0.03327618]\n",
      "  [0.83966429 0.49929298]\n",
      "  [0.12622622 0.17213896]\n",
      "  [1.3768757  0.62550644]]]\n"
     ]
    }
   ],
   "source": [
    "# Generate a matrix of random weights that sum to 1 for each row\n",
    "weights = np.random.dirichlet(np.ones(samples.shape[1]), size=samples.shape[0])\n",
    "\n",
    "# Apply the weights to the sample matrix\n",
    "weighted_samples = samples * weights[:, :, np.newaxis]\n",
    "\n",
    "print(weighted_samples)"
   ]
  },
  {
   "cell_type": "code",
   "execution_count": 6,
   "metadata": {},
   "outputs": [
    {
     "name": "stdout",
     "output_type": "stream",
     "text": [
      "[[[1.35985469 1.36737148]]]\n",
      "[[[0.25175488 0.37072756]\n",
      "  [0.50797507 0.27817076]\n",
      "  [0.51615068 0.62972692]\n",
      "  [0.08821465 0.08721249]\n",
      "  [0.46735017 0.71009589]]\n",
      "\n",
      " [[0.82623668 0.83862363]\n",
      "  [0.1328069  0.11312508]\n",
      "  [0.4804627  0.63301483]\n",
      "  [0.14723374 0.12762684]\n",
      "  [0.7651486  0.62940256]]\n",
      "\n",
      " [[0.19697956 0.10437026]\n",
      "  [0.35946531 0.39653353]\n",
      "  [0.26541597 0.78389118]\n",
      "  [0.75748981 0.66538924]\n",
      "  [0.86376572 0.93532   ]]\n",
      "\n",
      " [[0.35862709 0.24121938]\n",
      "  [0.37511619 0.39113726]\n",
      "  [0.02885369 0.04669002]\n",
      "  [1.12588815 0.4375367 ]\n",
      "  [0.57212159 0.3504312 ]]\n",
      "\n",
      " [[0.68723494 0.79598823]\n",
      "  [1.01581553 0.55710044]\n",
      "  [0.04844406 0.01965773]\n",
      "  [0.1048173  0.10245297]\n",
      "  [0.80312217 1.17591864]]\n",
      "\n",
      " [[0.04750704 0.10453798]\n",
      "  [0.47903139 0.76369909]\n",
      "  [2.38972857 2.18791919]\n",
      "  [0.04637934 0.05683343]\n",
      "  [0.00362874 0.00533886]]\n",
      "\n",
      " [[0.47589057 0.29824969]\n",
      "  [0.20297286 0.27076672]\n",
      "  [0.15230173 0.08679245]\n",
      "  [0.57021457 0.92106478]\n",
      "  [0.10709397 0.12947874]]\n",
      "\n",
      " [[0.14430142 0.04786716]\n",
      "  [0.3516323  0.68226746]\n",
      "  [0.11449873 0.42189562]\n",
      "  [0.23960541 0.01161933]\n",
      "  [0.87765593 1.34983051]]\n",
      "\n",
      " [[0.84616876 0.69923377]\n",
      "  [0.40486958 0.16571708]\n",
      "  [0.17855177 0.39288381]\n",
      "  [0.03430851 0.04610855]\n",
      "  [0.85699057 0.75580479]]\n",
      "\n",
      " [[0.04250152 0.04216552]\n",
      "  [0.08743937 0.0455009 ]\n",
      "  [1.14182142 0.68271898]\n",
      "  [0.17164932 0.2353779 ]\n",
      "  [1.87235088 0.85529967]]]\n"
     ]
    }
   ],
   "source": [
    "person = prod_draws(1, 1, shape, scale, corr_matrix)\n",
    "\n",
    "print(person)\n",
    "\n",
    "result = weighted_samples * person\n",
    "\n",
    "print(result)\n"
   ]
  },
  {
   "cell_type": "code",
   "execution_count": 7,
   "metadata": {},
   "outputs": [
    {
     "name": "stdout",
     "output_type": "stream",
     "text": [
      "[[0.62248244 0.78614583 1.1458776  0.17542714 1.17744607]\n",
      " [1.66486031 0.24593198 1.11347753 0.27486058 1.39455116]\n",
      " [0.30134982 0.75599884 1.04930715 1.42287905 1.79908572]\n",
      " [0.59984647 0.76625345 0.07554371 1.56342485 0.92255279]\n",
      " [1.48322317 1.57291597 0.06810178 0.20727027 1.97904081]\n",
      " [0.15204502 1.24273048 4.57764775 0.10321277 0.0089676 ]\n",
      " [0.77414026 0.47373957 0.23909417 1.49127935 0.23657271]\n",
      " [0.19216858 1.03389976 0.53639434 0.25122473 2.22748643]\n",
      " [1.54540253 0.57058666 0.57143558 0.08041706 1.61279536]\n",
      " [0.08466705 0.13294028 1.8245404  0.40702722 2.72765055]]\n",
      "[1.17744607 1.66486031 1.79908572 1.56342485 1.97904081 4.57764775\n",
      " 1.49127935 2.22748643 1.61279536 2.72765055]\n",
      "4.577647753940003\n"
     ]
    }
   ],
   "source": [
    "# Sum the rows of each individual draw matrix\n",
    "row_sums = np.sum(result, axis=2)\n",
    "\n",
    "print(row_sums)\n",
    "\n",
    "# Pick the maximum value of each row\n",
    "max_values = np.amax(row_sums, axis=1)\n",
    "\n",
    "print(max_values)\n",
    "\n",
    "print(np.amax(max_values))"
   ]
  },
  {
   "cell_type": "code",
   "execution_count": 8,
   "metadata": {},
   "outputs": [
    {
     "ename": "TypeError",
     "evalue": "'float' object is not subscriptable",
     "output_type": "error",
     "traceback": [
      "\u001b[0;31m---------------------------------------------------------------------------\u001b[0m",
      "\u001b[0;31mTypeError\u001b[0m                                 Traceback (most recent call last)",
      "Cell \u001b[0;32mIn[8], line 46\u001b[0m\n\u001b[1;32m     39\u001b[0m scale \u001b[38;5;241m=\u001b[39m np\u001b[38;5;241m.\u001b[39marray([[\u001b[38;5;241m2.0\u001b[39m, \u001b[38;5;241m2.0\u001b[39m], \n\u001b[1;32m     40\u001b[0m                   [\u001b[38;5;241m3.0\u001b[39m, \u001b[38;5;241m3.0\u001b[39m],\n\u001b[1;32m     41\u001b[0m                   [\u001b[38;5;241m2.5\u001b[39m, \u001b[38;5;241m2.5\u001b[39m],\n\u001b[1;32m     42\u001b[0m                   [\u001b[38;5;241m3.5\u001b[39m, \u001b[38;5;241m3.5\u001b[39m],\n\u001b[1;32m     43\u001b[0m                   [\u001b[38;5;241m2.2\u001b[39m, \u001b[38;5;241m2.2\u001b[39m]])\n\u001b[1;32m     45\u001b[0m \u001b[38;5;66;03m# Generate 10 draws of 5 samples each\u001b[39;00m\n\u001b[0;32m---> 46\u001b[0m samples \u001b[38;5;241m=\u001b[39m \u001b[43mprod_draws\u001b[49m\u001b[43m(\u001b[49m\u001b[38;5;241;43m10\u001b[39;49m\u001b[43m,\u001b[49m\u001b[43m \u001b[49m\u001b[38;5;241;43m5\u001b[39;49m\u001b[43m,\u001b[49m\u001b[43m \u001b[49m\u001b[43mshape\u001b[49m\u001b[43m,\u001b[49m\u001b[43m \u001b[49m\u001b[43mscale\u001b[49m\u001b[43m,\u001b[49m\u001b[43m \u001b[49m\u001b[43mcorr_matrix\u001b[49m\u001b[43m)\u001b[49m\n\u001b[1;32m     48\u001b[0m \u001b[38;5;28mprint\u001b[39m(samples)\n",
      "Cell \u001b[0;32mIn[8], line 24\u001b[0m, in \u001b[0;36mprod_draws\u001b[0;34m(n_sectors, n_cities, shape, scale, corr_matrix)\u001b[0m\n\u001b[1;32m     22\u001b[0m \u001b[38;5;28;01mfor\u001b[39;00m i \u001b[38;5;129;01min\u001b[39;00m \u001b[38;5;28mrange\u001b[39m(n_cities):\n\u001b[1;32m     23\u001b[0m     \u001b[38;5;28;01mfor\u001b[39;00m j \u001b[38;5;129;01min\u001b[39;00m \u001b[38;5;28mrange\u001b[39m(n_factors):\n\u001b[0;32m---> 24\u001b[0m         samples[:, i \u001b[38;5;241m*\u001b[39m n_factors \u001b[38;5;241m+\u001b[39m j] \u001b[38;5;241m=\u001b[39m weibull_min\u001b[38;5;241m.\u001b[39mppf(u[:, i \u001b[38;5;241m*\u001b[39m n_factors \u001b[38;5;241m+\u001b[39m j], \u001b[43mshape\u001b[49m\u001b[43m[\u001b[49m\u001b[43mi\u001b[49m\u001b[43m,\u001b[49m\u001b[43m \u001b[49m\u001b[43mj\u001b[49m\u001b[43m]\u001b[49m, scale\u001b[38;5;241m=\u001b[39mscale[i, j])\n\u001b[1;32m     26\u001b[0m \u001b[38;5;66;03m# Reshape the samples to have the same shape as the multivariate normal samples\u001b[39;00m\n\u001b[1;32m     27\u001b[0m samples \u001b[38;5;241m=\u001b[39m samples\u001b[38;5;241m.\u001b[39mreshape(n_sectors, n_cities, n_factors)\n",
      "\u001b[0;31mTypeError\u001b[0m: 'float' object is not subscriptable"
     ]
    }
   ],
   "source": [
    "import numpy as np\n",
    "\n",
    "def prod_draws(n_sectors, n_cities, shape, scale, corr_matrix):\n",
    "    import numpy as np\n",
    "    from scipy.stats import norm, weibull_min\n",
    "\n",
    "    # Check if the shape parameter matches the number of cities and factors\n",
    "    # if shape.shape != (n_cities, corr_matrix.shape[0]):\n",
    "    #     raise ValueError(\"The shape of the shape parameter must match the number of cities and factors\")\n",
    "\n",
    "    # Get the number of factors from the correlation matrix\n",
    "    n_factors = corr_matrix.shape[0]\n",
    "\n",
    "    # Generate samples from a multivariate normal distribution\n",
    "    mvnorm_samples = np.random.multivariate_normal(mean=np.zeros(n_factors), cov=corr_matrix, size=n_sectors * n_cities)\n",
    "\n",
    "    # Apply the cumulative distribution function of the normal distribution\n",
    "    u = norm.cdf(mvnorm_samples)\n",
    "\n",
    "    # Apply the inverse of the Weibull cumulative distribution function with a unique shape parameter for each factor for each city\n",
    "    samples = np.empty_like(u)\n",
    "    for i in range(n_cities):\n",
    "        for j in range(n_factors):\n",
    "            samples[:, i * n_factors + j] = weibull_min.ppf(u[:, i * n_factors + j], shape[i, j], scale=scale[i, j])\n",
    "\n",
    "    # Reshape the samples to have the same shape as the multivariate normal samples\n",
    "    samples = samples.reshape(n_sectors, n_cities, n_factors)\n",
    "\n",
    "    return samples\n",
    "\n",
    "#Define the correlation matrix\n",
    "corr_matrix = np.array([[1, 0.5], \n",
    "                        [0.5, 1]])\n",
    "\n",
    "# Define the shape parameter\n",
    "shape = 2.0\n",
    "\n",
    "#Define the scale parameter\n",
    "scale = np.array([[2.0, 2.0], \n",
    "                  [3.0, 3.0],\n",
    "                  [2.5, 2.5],\n",
    "                  [3.5, 3.5],\n",
    "                  [2.2, 2.2]])\n",
    "\n",
    "# Generate 10 draws of 5 samples each\n",
    "samples = prod_draws(10, 5, shape, scale, corr_matrix)\n",
    "\n",
    "print(samples)"
   ]
  },
  {
   "cell_type": "code",
   "execution_count": null,
   "metadata": {},
   "outputs": [
    {
     "name": "stdout",
     "output_type": "stream",
     "text": [
      "[[0.79604644 1.24554448]]\n",
      "[[0.45562546 0.54437454]\n",
      " [0.38892126 0.61107874]\n",
      " [0.41916667 0.58083333]\n",
      " [0.17324253 0.82675747]\n",
      " [0.07804838 0.92195162]]\n",
      "[[0.36269902 0.6780427 ]\n",
      " [0.30959938 0.76112575]\n",
      " [0.33367614 0.72345374]\n",
      " [0.1379091  1.0297632 ]\n",
      " [0.06213014 1.14833175]]\n"
     ]
    }
   ],
   "source": [
    "import numpy as np\n",
    "\n",
    "# Generate two draws from a normal distribution with mean 0 and standard deviation 1\n",
    "draws = np.random.normal(loc=0, scale=1, size=2) \n",
    "\n",
    "# Put the draws in a matrix\n",
    "matrix = np.array([np.absolute(draws)])\n",
    "\n",
    "print(matrix)\n",
    "\n",
    "# Generate a weight matrix for 5 sectors and 2 technologies\n",
    "weights = np.random.dirichlet(np.ones(2), size=5)\n",
    "\n",
    "print(weights)\n",
    "\n",
    "weighted_samples = matrix * weights\n",
    "\n",
    "print(weighted_samples)\n",
    "\n"
   ]
  },
  {
   "cell_type": "code",
   "execution_count": null,
   "metadata": {},
   "outputs": [
    {
     "name": "stdout",
     "output_type": "stream",
     "text": [
      "[[0.49167992 0.82343348]\n",
      " [0.4401088  0.87242521]\n",
      " [0.46379665 0.85056084]\n",
      " [0.24987053 1.01477249]\n",
      " [0.14299196 1.07160242]]\n"
     ]
    }
   ],
   "source": [
    "tech_correlation = np.array([0.7, 0.5])\n",
    "\n",
    "powered_samples = np.power(weighted_samples, tech_correlation)\n",
    "\n",
    "print(powered_samples)"
   ]
  },
  {
   "cell_type": "code",
   "execution_count": null,
   "metadata": {},
   "outputs": [
    {
     "name": "stdout",
     "output_type": "stream",
     "text": [
      "[[0.3553246  1.0815801 ]\n",
      " [0.76330876 0.83814613]\n",
      " [0.34211673 1.15832338]\n",
      " [0.20995568 0.45162474]\n",
      " [0.19661164 0.74601287]]\n"
     ]
    }
   ],
   "source": [
    "from scipy.stats import weibull_min\n",
    "\n",
    "# Define the shape parameter\n",
    "shape = 2.0\n",
    "\n",
    "# Generate Weibull draws for each technology in each sector\n",
    "weibull_draws = weibull_min.rvs(shape, scale=powered_samples)\n",
    "\n",
    "print(weibull_draws)"
   ]
  },
  {
   "cell_type": "code",
   "execution_count": 10,
   "metadata": {},
   "outputs": [
    {
     "name": "stdout",
     "output_type": "stream",
     "text": [
      "The maximum value is 5.325471803049504 and it's at position 4\n"
     ]
    }
   ],
   "source": [
    "def simulate_city(n_sectors, n_tech, tech_correlation, endowment_draws=None, shape=2.0, seed=123, random=0):\n",
    "    import numpy as np \n",
    "    from scipy.stats import weibull_min\n",
    "\n",
    "    # Set the seed if not random\n",
    "    if random == 0:\n",
    "        np.random.seed(seed)\n",
    "\n",
    "    # Check if the number of technologies matches the number of correlations\n",
    "    if len(tech_correlation) != n_tech:\n",
    "        raise ValueError(\"The number of technology correlations must match the number of technologies\")\n",
    "\n",
    "    # Generate endowment draws if not provided\n",
    "    if endowment_draws is None:\n",
    "        endowment_draws = np.random.normal(loc=0, scale=1, size=n_tech)\n",
    "        endowment_draws = np.array([np.absolute(endowment_draws)])\n",
    "    elif len(endowment_draws) != n_tech:\n",
    "        raise ValueError(\"The number of endowment draws must match the number of technologies\")\n",
    "\n",
    "    # Generate sector specific weight draws\n",
    "    sector_weights = np.random.dirichlet(np.ones(n_tech), size=n_sectors) * 10\n",
    "\n",
    "    # Calculate powered weighted endowments\n",
    "    powered_weights = np.power(sector_weights, tech_correlation)\n",
    "\n",
    "    # Calculate weighted endowments\n",
    "    weighted_endowments = endowment_draws * powered_weights\n",
    "\n",
    "    # Generate productivity draws\n",
    "    productivity_draws = weibull_min.rvs(shape, scale=weighted_endowments)\n",
    "\n",
    "    return {\n",
    "        \"endowment_draws\": endowment_draws,\n",
    "        \"sector_weights\": sector_weights,\n",
    "        \"tech_correlation\": tech_correlation,\n",
    "        \"productivity_draws\": productivity_draws\n",
    "    }\n",
    "\n",
    "# Simulate a city with 5 sectors and 2 technologies\n",
    "city = simulate_city(10, 3, [0.7, 0.1, 0.5], [0.5, 0.3, 0.7])\n",
    "person = simulate_city(10, 3, [0.7, 0.1, 0.5], [0.5, 0.3, 0.7])\n",
    "\n",
    "wages = city['productivity_draws'] * person['productivity_draws']\n",
    "wages = np.sum(wages, axis=1)\n",
    "\n",
    "max_pos = np.argmax(wages)\n",
    "max_wage = wages[max_pos]\n",
    "\n",
    "print(f\"The maximum value is {max_wage} and it's at position {max_pos}\")\n",
    "\n"
   ]
  },
  {
   "cell_type": "code",
   "execution_count": 11,
   "metadata": {},
   "outputs": [
    {
     "name": "stdout",
     "output_type": "stream",
     "text": [
      "4\n"
     ]
    }
   ],
   "source": [
    "def solve_wages(city, person):\n",
    "    if city['productivity_draws'].shape != person['productivity_draws'].shape:\n",
    "        raise ValueError(\"The shape of the city and person productivity draws must match\")\n",
    "\n",
    "    wages = city['productivity_draws'] * person['productivity_draws']\n",
    "    wages = np.sum(wages, axis=1)\n",
    "\n",
    "    max_indus = np.argmax(wages)\n",
    "    max_wage = wages[max_pos]\n",
    "\n",
    "    return {\n",
    "        \"max_wage\": max_wage,\n",
    "        \"max_indus\": max_indus,\n",
    "        \"wages\": wages\n",
    "    }\n",
    "\n",
    "# Solve for the wages\n",
    "result = solve_wages(city, person)\n",
    "\n",
    "print(result['max_indus'])"
   ]
  },
  {
   "cell_type": "code",
   "execution_count": null,
   "metadata": {},
   "outputs": [
    {
     "name": "stdout",
     "output_type": "stream",
     "text": [
      "Counter({7: 136, 2: 122, 5: 63, 4: 58, 9: 39, 8: 32, 1: 22, 6: 18, 3: 7, 0: 3})\n",
      "[[6.67332544 1.8866171  1.44005746]\n",
      " [3.05587213 4.8466022  2.09752568]\n",
      " [6.85774309 2.00411947 1.13813744]\n",
      " [2.23825567 1.89008262 5.87166171]\n",
      " [5.03562542 0.53675916 4.42761542]\n",
      " [7.72515708 1.16214922 1.1126937 ]\n",
      " [3.00510875 3.00744604 3.98744521]\n",
      " [4.58815448 3.12366462 2.28818089]\n",
      " [6.0435048  1.83900445 2.11749074]\n",
      " [1.61567108 2.16827491 6.21605401]]\n"
     ]
    }
   ],
   "source": [
    "from collections import Counter\n",
    "\n",
    "n_sectors = 10\n",
    "n_tech = 3\n",
    "tech_correlation = np.array([0.7, 0.5, 0.3])\n",
    "\n",
    "n_people = 500\n",
    "\n",
    "city = simulate_city(n_sectors, n_tech, tech_correlation, [0.5, 0.3, 0.7])\n",
    "\n",
    "people = []\n",
    "wages = []\n",
    "\n",
    "for i in range (n_people):\n",
    "    person = simulate_city(n_sectors, n_tech, tech_correlation, random=1)\n",
    "    result = solve_wages(city, person)\n",
    "    people.append(person)\n",
    "    wages.append(result)\n",
    "\n",
    "max_indus_counts = Counter([wage['max_indus'] for wage in wages])\n",
    "print(max_indus_counts)\n",
    "\n",
    "print(city['sector_weights'])"
   ]
  }
 ],
 "metadata": {
  "kernelspec": {
   "display_name": "Python 3",
   "language": "python",
   "name": "python3"
  },
  "language_info": {
   "codemirror_mode": {
    "name": "ipython",
    "version": 3
   },
   "file_extension": ".py",
   "mimetype": "text/x-python",
   "name": "python",
   "nbconvert_exporter": "python",
   "pygments_lexer": "ipython3",
   "version": "3.10.12"
  }
 },
 "nbformat": 4,
 "nbformat_minor": 2
}
