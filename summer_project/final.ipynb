{
 "cells": [
  {
   "cell_type": "code",
   "execution_count": 1,
   "metadata": {},
   "outputs": [],
   "source": [
    "from scipy.stats import rv_continuous\n",
    "import numpy as np\n",
    "\n",
    "class frechet_distribution_gen(rv_continuous):\n",
    "    \"Frechet distribution\"\n",
    "    def _pdf(self, x, shape, scale_param):\n",
    "        return scale_param * shape * x ** (-1 - shape) * np.exp(- scale_param * x ** -shape)\n",
    "    \n",
    "    def _cdf(self, x, shape, scale_param):\n",
    "        return np.exp(- scale_param * x ** -shape)\n",
    "    \n",
    "    def _get_support(self, *args):\n",
    "        return (0, np.inf)\n",
    "\n",
    "# Create a frozen instance of our distribution\n",
    "frechet_distribution = frechet_distribution_gen(name='frechet')\n",
    "\n",
    "def frechet_draws(shape, scale_param, size=1):\n",
    "    return frechet_distribution.rvs(shape, scale_param, size=size)\n",
    "\n",
    "def draw_samples(shape, scale_matrix, size=1):\n",
    "    # Initialize an array to store the samples\n",
    "    samples = np.empty(scale_matrix.shape)\n",
    "\n",
    "    # Draw samples for each scale parameter in the matrix\n",
    "    for i in range(scale_matrix.shape[0]):\n",
    "        for j in range(scale_matrix.shape[1]):\n",
    "            samples[i, j] = frechet_distribution.rvs(shape, scale_matrix[i, j], size=size)\n",
    "\n",
    "    return samples"
   ]
  },
  {
   "cell_type": "code",
   "execution_count": 4,
   "metadata": {},
   "outputs": [
    {
     "ename": "TypeError",
     "evalue": "can't multiply sequence by non-int of type 'str'",
     "output_type": "error",
     "traceback": [
      "\u001b[0;31m---------------------------------------------------------------------------\u001b[0m",
      "\u001b[0;31mTypeError\u001b[0m                                 Traceback (most recent call last)",
      "Cell \u001b[0;32mIn[4], line 25\u001b[0m\n\u001b[1;32m     23\u001b[0m \u001b[38;5;28;01mfor\u001b[39;00m houehold \u001b[38;5;129;01min\u001b[39;00m households:\n\u001b[1;32m     24\u001b[0m     \u001b[38;5;28;01mfor\u001b[39;00m city \u001b[38;5;129;01min\u001b[39;00m cities:\n\u001b[0;32m---> 25\u001b[0m         scale_matrix \u001b[38;5;241m=\u001b[39m [a\u001b[38;5;241m*\u001b[39mb \u001b[38;5;28;01mfor\u001b[39;00m a, b \u001b[38;5;129;01min\u001b[39;00m \u001b[38;5;28mzip\u001b[39m(houehold, city)]\n\u001b[1;32m     26\u001b[0m         scale_paramaters \u001b[38;5;241m=\u001b[39m {\u001b[38;5;241m*\u001b[39m\u001b[38;5;241m*\u001b[39mscale_paramaters, \u001b[38;5;241m*\u001b[39m\u001b[38;5;241m*\u001b[39m{\u001b[38;5;28mstr\u001b[39m(houehold) \u001b[38;5;241m+\u001b[39m \u001b[38;5;28mstr\u001b[39m(city): scale_matrix}}\n",
      "\u001b[0;31mTypeError\u001b[0m: can't multiply sequence by non-int of type 'str'"
     ]
    }
   ],
   "source": [
    "# Assume two occupations, trades and services \n",
    "# Assume 3 cities and 2 household types \n",
    "\n",
    "# Houehold types \n",
    "trade_focus = [0.7, 0.4]\n",
    "service_focus = [0.3, 0.8]\n",
    "\n",
    "# City types\n",
    "detriot_t = [0.7, 0.2]\n",
    "chicago_t = [0.8, 0.1]\n",
    "new_york_s = [0.1, 0.8]\n",
    "\n",
    "# Assume some parameters \n",
    "shape = 2\n",
    "rho_values = [0.7, 0.5]\n",
    "\n",
    "# Calculate city household type pair scale parameters\n",
    "households = [trade_focus, service_focus]\n",
    "cities = [detriot_t, chicago_t, new_york_s]\n",
    "\n",
    "scale_paramaters = {}\n",
    "\n",
    "for houehold in households:\n",
    "    for city in cities:\n",
    "        scale_matrix = [a*b for a, b in zip(houehold, city)]\n",
    "        scale_paramaters = {**scale_paramaters, **{f'{houehold}_{city}': scale_matrix}}"
   ]
  }
 ],
 "metadata": {
  "kernelspec": {
   "display_name": "trade",
   "language": "python",
   "name": "python3"
  },
  "language_info": {
   "codemirror_mode": {
    "name": "ipython",
    "version": 3
   },
   "file_extension": ".py",
   "mimetype": "text/x-python",
   "name": "python",
   "nbconvert_exporter": "python",
   "pygments_lexer": "ipython3",
   "version": "3.12.3"
  }
 },
 "nbformat": 4,
 "nbformat_minor": 2
}
