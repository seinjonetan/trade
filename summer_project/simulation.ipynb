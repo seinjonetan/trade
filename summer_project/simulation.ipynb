{
 "cells": [
  {
   "cell_type": "code",
   "execution_count": 43,
   "metadata": {},
   "outputs": [],
   "source": [
    "def simulate_city(n_sectors, n_tech, tech_correlation, sector_weights, endowment_draws=None, shape=2.0, seed=123, random=0):\n",
    "    import numpy as np \n",
    "    from scipy.stats import weibull_min\n",
    "    import random\n",
    "\n",
    "    # Set the seed if not random\n",
    "    if random == 0:\n",
    "        np.random.seed(seed)\n",
    "    elif random == 1:\n",
    "        np.random.seed()\n",
    "\n",
    "    # Check if the number of technologies matches the number of correlations\n",
    "    if len(tech_correlation) != n_tech:\n",
    "        raise ValueError(\"The number of technology correlations must match the number of technologies\")\n",
    "\n",
    "    # Generate endowment draws if not provided\n",
    "    if endowment_draws is None:\n",
    "        endowment_draws = np.random.normal(loc=0, scale=1, size=n_tech)\n",
    "        endowment_draws = np.array([np.absolute(endowment_draws)])\n",
    "    elif len(endowment_draws) != n_tech:\n",
    "        raise ValueError(\"The number of endowment draws must match the number of technologies\")\n",
    "\n",
    "    # Generate sector specific weight draws\n",
    "    if len(sector_weights) != n_sectors:\n",
    "        raise ValueError(\"The number of sector weights must match the number of sectors\")\n",
    "    sector_weights = sector_weights * 10\n",
    "\n",
    "    # Calculate powered weighted endowments\n",
    "    powered_weights = np.power(sector_weights, tech_correlation)\n",
    "\n",
    "    # Calculate weighted endowments\n",
    "    weighted_endowments = endowment_draws * powered_weights\n",
    "\n",
    "    # Generate productivity draws\n",
    "    productivity_draws = weibull_min.rvs(shape, scale=weighted_endowments)\n",
    "\n",
    "    # Assign an ID\n",
    "    hex_value = hex(random.randint(0, 16**6))[2:]\n",
    "\n",
    "    return {\n",
    "        \"id\": hex_value,\n",
    "        \"endowment_draws\": endowment_draws,\n",
    "        \"sector_weights\": sector_weights,\n",
    "        \"tech_correlation\": tech_correlation,\n",
    "        \"productivity_draws\": productivity_draws\n",
    "    }\n",
    "\n",
    "def solve_wages(city, person):\n",
    "    import numpy as np\n",
    "\n",
    "    if city['productivity_draws'].shape != person['productivity_draws'].shape:\n",
    "        raise ValueError(\"The shape of the city and person productivity draws must match\")\n",
    "\n",
    "    wages = city['productivity_draws'] * person['productivity_draws']\n",
    "    wages = np.sum(wages, axis=1)\n",
    "\n",
    "    max_indus = np.argmax(wages)\n",
    "    max_wage = wages[max_indus]\n",
    "\n",
    "    return {\n",
    "        \"person_id\" : person['id'],\n",
    "        \"city_id\" : city['id'],\n",
    "        \"max_wage\": max_wage,\n",
    "        \"max_indus\": max_indus,\n",
    "        \"wages\": wages\n",
    "    }\n",
    "\n"
   ]
  },
  {
   "cell_type": "code",
   "execution_count": 44,
   "metadata": {},
   "outputs": [
    {
     "name": "stdout",
     "output_type": "stream",
     "text": [
      "The maximum value is 6.067326753997397 and it's at position 1\n",
      "1\n"
     ]
    }
   ],
   "source": [
    "import numpy as np\n",
    "from collections import Counter\n",
    "\n",
    "np.random.seed(123)\n",
    "n_sectors = 10\n",
    "n_tech = 3\n",
    "sector_weights = np.random.dirichlet(np.ones(n_tech), size=n_sectors)\n",
    "\n",
    "# Simulate a city with 10 sectors and 3 technologies\n",
    "city = simulate_city(10, 3, [0.7, 0.1, 0.5], sector_weights)\n",
    "person = simulate_city(10, 3, [0.7, 0.1, 0.5], sector_weights)\n",
    "\n",
    "wages = city['productivity_draws'] * person['productivity_draws']\n",
    "wages = np.sum(wages, axis=1)\n",
    "\n",
    "max_pos = np.argmax(wages)\n",
    "max_wage = wages[max_pos]\n",
    "\n",
    "print(f\"The maximum value is {max_wage} and it's at position {max_pos}\")\n",
    "\n",
    "# Solve for the wages\n",
    "result = solve_wages(city, person)\n",
    "\n",
    "print(result['max_indus'])"
   ]
  },
  {
   "cell_type": "code",
   "execution_count": 45,
   "metadata": {},
   "outputs": [
    {
     "name": "stdout",
     "output_type": "stream",
     "text": [
      "Counter({7: 172, 2: 152, 5: 73, 8: 40, 4: 31, 9: 16, 6: 9, 1: 7})\n",
      "[[6.67332544 1.8866171  1.44005746]\n",
      " [3.05587213 4.8466022  2.09752568]\n",
      " [6.85774309 2.00411947 1.13813744]\n",
      " [2.23825567 1.89008262 5.87166171]\n",
      " [5.03562542 0.53675916 4.42761542]\n",
      " [7.72515708 1.16214922 1.1126937 ]\n",
      " [3.00510875 3.00744604 3.98744521]\n",
      " [4.58815448 3.12366462 2.28818089]\n",
      " [6.0435048  1.83900445 2.11749074]\n",
      " [1.61567108 2.16827491 6.21605401]]\n",
      "6a6cbd\n"
     ]
    }
   ],
   "source": [
    "# Simulate one city and 500 people to demonstrate sorting of people into sectors \n",
    "\n",
    "np.random.seed(123)\n",
    "n_sectors = 10\n",
    "n_tech = 3\n",
    "tech_correlation = np.array([0.7, 0.5, 0.3])\n",
    "sector_weights = np.random.dirichlet(np.ones(n_tech), size=n_sectors)\n",
    "\n",
    "n_people = 500\n",
    "\n",
    "city = simulate_city(n_sectors, n_tech, tech_correlation, sector_weights, [0.6, 0.2, 0.3])\n",
    "\n",
    "people = []\n",
    "wages = []\n",
    "\n",
    "for i in range (n_people):\n",
    "    person = simulate_city(n_sectors, n_tech, tech_correlation, sector_weights, random=1)\n",
    "    result = solve_wages(city, person)\n",
    "    people.append(person)\n",
    "    wages.append(result)\n",
    "\n",
    "    person['max_indus'] = result['max_indus']\n",
    "    person['max_wage'] = result['max_wage']\n",
    "    person['city_id'] = result['city_id']\n",
    "\n",
    "max_indus_counts = Counter([wage['max_indus'] for wage in wages])\n",
    "print(max_indus_counts)\n",
    "\n",
    "print(city['sector_weights'])\n",
    "print(city['id'])"
   ]
  },
  {
   "cell_type": "code",
   "execution_count": 51,
   "metadata": {},
   "outputs": [
    {
     "name": "stdout",
     "output_type": "stream",
     "text": [
      "[[0.7042696  0.20715149 0.25126597]\n",
      " [1.08190896 0.32796595 0.22922931]\n",
      " [1.72152441 0.42362068 0.52975191]\n",
      " [0.88034036 0.27192487 0.17884077]\n",
      " [1.14931079 0.10726052 0.66498297]\n",
      " [1.34772324 0.17512981 0.63767738]\n",
      " [1.10962155 0.33788998 0.16287798]\n",
      " [2.30620995 0.33977486 0.34128974]\n",
      " [1.36939609 0.16331378 0.27599815]\n",
      " [0.89767229 0.42505246 0.43862089]]\n"
     ]
    },
    {
     "ename": "TypeError",
     "evalue": "list indices must be integers or slices, not str",
     "output_type": "error",
     "traceback": [
      "\u001b[0;31m---------------------------------------------------------------------------\u001b[0m",
      "\u001b[0;31mTypeError\u001b[0m                                 Traceback (most recent call last)",
      "Cell \u001b[0;32mIn[51], line 15\u001b[0m\n\u001b[1;32m     12\u001b[0m result \u001b[38;5;241m=\u001b[39m solve_wages(city, person)\n\u001b[1;32m     13\u001b[0m new_wages\u001b[38;5;241m.\u001b[39mappend(result)\n\u001b[0;32m---> 15\u001b[0m \u001b[43mnew_wages\u001b[49m\u001b[43m[\u001b[49m\u001b[38;5;124;43m'\u001b[39;49m\u001b[38;5;124;43mwelfare_change\u001b[39;49m\u001b[38;5;124;43m'\u001b[39;49m\u001b[43m]\u001b[49m \u001b[38;5;241m=\u001b[39m result[\u001b[38;5;124m'\u001b[39m\u001b[38;5;124mmax_wage\u001b[39m\u001b[38;5;124m'\u001b[39m] \u001b[38;5;241m-\u001b[39m person[\u001b[38;5;124m'\u001b[39m\u001b[38;5;124mmax_wage\u001b[39m\u001b[38;5;124m'\u001b[39m]\n\u001b[1;32m     17\u001b[0m person[\u001b[38;5;124m'\u001b[39m\u001b[38;5;124mmax_indus\u001b[39m\u001b[38;5;124m'\u001b[39m] \u001b[38;5;241m=\u001b[39m result[\u001b[38;5;124m'\u001b[39m\u001b[38;5;124mmax_indus\u001b[39m\u001b[38;5;124m'\u001b[39m]\n\u001b[1;32m     18\u001b[0m person[\u001b[38;5;124m'\u001b[39m\u001b[38;5;124mmax_wage\u001b[39m\u001b[38;5;124m'\u001b[39m] \u001b[38;5;241m=\u001b[39m result[\u001b[38;5;124m'\u001b[39m\u001b[38;5;124mmax_wage\u001b[39m\u001b[38;5;124m'\u001b[39m]\n",
      "\u001b[0;31mTypeError\u001b[0m: list indices must be integers or slices, not str"
     ]
    }
   ],
   "source": [
    "# Simulate productivity shock for first tech sector\n",
    "# This should be done for each city, but demonstration is done on each person instead to show how the loop would work \n",
    "\n",
    "print(city['productivity_draws'])\n",
    "\n",
    "value_to_add = 0.5 \n",
    "\n",
    "new_wages = []\n",
    "\n",
    "for person in people:\n",
    "    person['productivity_draws'] = person['productivity_draws'] + value_to_add\n",
    "    result = solve_wages(city, person)\n",
    "    new_wages.append(result)\n",
    "\n",
    "    new_wages['welfare_change'] = result['max_wage'] - person['max_wage']\n",
    "\n",
    "    person['max_indus'] = result['max_indus']\n",
    "    person['max_wage'] = result['max_wage']\n",
    "    person['city_id'] = result['city_id']\n",
    "\n",
    "max_indus_counts = Counter([wage['max_indus'] for wage in new_wages])\n",
    "print(max_indus_counts)"
   ]
  }
 ],
 "metadata": {
  "kernelspec": {
   "display_name": "Python 3",
   "language": "python",
   "name": "python3"
  },
  "language_info": {
   "codemirror_mode": {
    "name": "ipython",
    "version": 3
   },
   "file_extension": ".py",
   "mimetype": "text/x-python",
   "name": "python",
   "nbconvert_exporter": "python",
   "pygments_lexer": "ipython3",
   "version": "3.10.12"
  }
 },
 "nbformat": 4,
 "nbformat_minor": 2
}
