{
 "cells": [
  {
   "cell_type": "code",
   "execution_count": 172,
   "metadata": {},
   "outputs": [],
   "source": [
    "from scipy.stats import rv_continuous\n",
    "import numpy as np\n",
    "\n",
    "class frechet_distribution_gen(rv_continuous):\n",
    "    \"Frechet distribution\"\n",
    "    def _pdf(self, x, shape, scale_param):\n",
    "        return scale_param * shape * x ** (-1 - shape) * np.exp(- scale_param * x ** -shape)\n",
    "    \n",
    "    def _cdf(self, x, shape, scale_param):\n",
    "        return np.exp(- scale_param * x ** -shape)\n",
    "    \n",
    "    def _get_support(self, *args):\n",
    "        return (0, np.inf)\n",
    "\n",
    "# Create a frozen instance of our distribution\n",
    "frechet_distribution = frechet_distribution_gen(name='frechet')\n",
    "\n",
    "def frechet_draws(shape, scale_param, size=1):\n",
    "    return frechet_distribution.rvs(shape, scale_param, size=size)\n",
    "\n",
    "def draw_samples(shape, scale_matrix, size=1):\n",
    "    # Initialize an array to store the samples\n",
    "    samples = np.empty(scale_matrix.shape)\n",
    "\n",
    "    # Draw samples for each scale parameter in the matrix\n",
    "    for i in range(scale_matrix.shape[0]):\n",
    "        for j in range(scale_matrix.shape[1]):\n",
    "            samples[i, j] = frechet_distribution.rvs(shape, scale_matrix[i, j], size=size)\n",
    "\n",
    "    return samples"
   ]
  },
  {
   "cell_type": "code",
   "execution_count": 173,
   "metadata": {},
   "outputs": [],
   "source": [
    "def simulate_city(n_sectors, n_tech, tech_correlation, sector_weights, city_elasticity, expenditure_draws=None, shape=2.0, seed=123, random=0):\n",
    "    import numpy as np \n",
    "    import random\n",
    "\n",
    "    # Set the seed if not random\n",
    "    if random == 0:\n",
    "        np.random.seed(seed)\n",
    "    elif random == 1:\n",
    "        np.random.seed()\n",
    "\n",
    "    # Check if the number of technologies matches the number of correlations\n",
    "    if len(tech_correlation) != n_tech:\n",
    "        raise ValueError(\"The number of technology correlations must match the number of technologies\")\n",
    "    for value in tech_correlation:\n",
    "        if not 0 <= value <= 1:\n",
    "            raise ValueError(\"All values in the tech_correlation array must be between 0 and 1\")\n",
    "\n",
    "    # Generate expenditure draws if not provided\n",
    "    if expenditure_draws is None:\n",
    "        expenditure_draws = np.random.normal(loc=0, scale=10, size=(n_sectors, n_tech))\n",
    "        expenditure_draws = np.abs(expenditure_draws)\n",
    "    elif expenditure_draws.shape != (n_sectors, n_tech):\n",
    "        raise ValueError(\"The number of expenditure draws must match the number of technologies\")\n",
    "\n",
    "    # Generate sector specific weight draws\n",
    "    if len(sector_weights) != n_sectors:\n",
    "        raise ValueError(\"The number of sector weights must match the number of sectors\")\n",
    "    sector_weights = sector_weights\n",
    "\n",
    "    #Covert elaticities\n",
    "    city_elasticity = 1 / (1 - city_elasticity)\n",
    "    tech_correlation = np.reciprocal(np.subtract(1, tech_correlation))\n",
    "\n",
    "    # Calculate weighted endowments\n",
    "    weighted_endowments = expenditure_draws * sector_weights\n",
    "\n",
    "    # Calculate powered weighted endowments\n",
    "    powered_weights = np.power(weighted_endowments, tech_correlation)\n",
    "    powered_weights = np.power(powered_weights, city_elasticity)\n",
    "\n",
    "    # Generate productivity draws\n",
    "    productivity_draws = draw_samples(shape * city_elasticity, powered_weights)\n",
    "\n",
    "    # Assign an ID\n",
    "    hex_value = hex(random.randint(0, 16**6))[2:]\n",
    "\n",
    "    return {\n",
    "        \"id\": hex_value,\n",
    "        \"expenditure_draws\": expenditure_draws,\n",
    "        \"sector_weights\": sector_weights,\n",
    "        \"tech_correlation\": tech_correlation,\n",
    "        \"productivity_draws\": productivity_draws\n",
    "    }\n",
    "\n",
    "\n",
    "def simulate_person(n_tech):\n",
    "    import numpy as np \n",
    "    import random\n",
    "\n",
    "    # Generate endowment draws\n",
    "    endowment_draws = np.random.normal(loc=0, scale=100, size=n_tech)\n",
    "    endowment_draws = np.array([np.absolute(endowment_draws)])\n",
    "\n",
    "    # Assign an ID\n",
    "    hex_value = hex(random.randint(0, 16**6))[2:]\n",
    "\n",
    "    return {\n",
    "        \"id\": hex_value,\n",
    "        \"endowment_draws\": endowment_draws\n",
    "    }\n",
    "\n",
    "\n",
    "def solve_expected_wage(city, person, elasticity):\n",
    "    import numpy as np\n",
    "\n",
    "    # if city['productivity_draws'].shape[1] != person['endowment_draws'].shape[1]:\n",
    "    #     raise ValueError(\"The shape of the city and person productivity draws must match\")\n",
    "\n",
    "    wages = city['productivity_draws'] @ person['endowment_draws'].T\n",
    "    wages = np.power(wages, elasticity / (elasticity - 1))\n",
    "    wages = np.sum(wages, axis=0)\n",
    "    wages = wages ** ((elasticity -1 ) / elasticity)\n",
    "\n",
    "    return {\n",
    "        \"city_id\": city['id'],\n",
    "        \"expected_wage\": wages\n",
    "    }\n",
    "\n",
    "def max_wage(cities, person, elasticity):\n",
    "    max_wages = []\n",
    "\n",
    "    for city in cities:\n",
    "        max_wages.append(solve_expected_wage(city, person, elasticity))\n",
    "    \n",
    "    max_wages = max(max_wages, key=lambda x: x['expected_wage'])\n",
    "\n",
    "    return {\n",
    "        \"city_id\": max_wages['city_id'],\n",
    "        \"expected_wage\": max_wages['expected_wage']\n",
    "    }"
   ]
  },
  {
   "cell_type": "code",
   "execution_count": 174,
   "metadata": {},
   "outputs": [
    {
     "name": "stdout",
     "output_type": "stream",
     "text": [
      "Sector Weights: \n",
      " [[0.61165056 0.38834944]\n",
      " [0.60115987 0.39884013]\n",
      " [0.16988792 0.83011208]\n",
      " [0.68403117 0.31596883]\n",
      " [0.79744481 0.20255519]]\n",
      "\n",
      "New York Productivities: \n",
      " [[ 5.68704075  6.05253234]\n",
      " [22.20045335 21.0447158 ]\n",
      " [ 2.51932882 44.19509366]\n",
      " [28.21495781 57.98921321]\n",
      " [40.61499587  7.94903808]]\n"
     ]
    },
    {
     "name": "stderr",
     "output_type": "stream",
     "text": [
      "/tmp/ipykernel_656557/1876812766.py:28: DeprecationWarning: Conversion of an array with ndim > 0 to a scalar is deprecated, and will error in future. Ensure you extract a single element from your array before performing this operation. (Deprecated NumPy 1.25.)\n",
      "  samples[i, j] = frechet_distribution.rvs(shape, scale_matrix[i, j], size=size)\n"
     ]
    }
   ],
   "source": [
    "#Assume technology 1 is trade skills and technology 2 is service skills \n",
    "\n",
    "#Generate a service focused city with productivity draws\n",
    "np.random.seed(120)\n",
    "\n",
    "n_sectors = 5\n",
    "n_tech = 2\n",
    "tech_correlation = [0.5, 0.5]\n",
    "sector_weights = np.random.dirichlet(np.ones(n_tech), size=n_sectors)\n",
    "city_elasticity = 0.5\n",
    "expenditure = [10, 20,\n",
    "               30, 40,\n",
    "               15, 25,\n",
    "               35, 50,\n",
    "               45, 50]\n",
    "expenditure = np.array(expenditure)\n",
    "expenditure = expenditure.reshape((n_sectors, n_tech))\n",
    "\n",
    "new_york = simulate_city(n_sectors, n_tech, tech_correlation, sector_weights, city_elasticity, expenditure_draws=expenditure)\n",
    "\n",
    "print(f\"Sector Weights: \\n {new_york['sector_weights']}\")\n",
    "print()\n",
    "print(f\"New York Productivities: \\n {new_york['productivity_draws']}\")"
   ]
  },
  {
   "cell_type": "code",
   "execution_count": 175,
   "metadata": {},
   "outputs": [
    {
     "name": "stdout",
     "output_type": "stream",
     "text": [
      "Detriot Productivities: \n",
      " [[10.3371733   3.46731016]\n",
      " [26.45937138 13.4583798 ]\n",
      " [ 4.76321057 11.33328458]\n",
      " [40.63826971 14.35179013]\n",
      " [31.08023826  8.31927316]]\n",
      "\n",
      "Flint Productivities: \n",
      " [[10.50463294  9.57500591]\n",
      " [31.44134482  9.52448351]\n",
      " [ 4.82413094 10.53871115]\n",
      " [27.97864114 13.27278443]\n",
      " [72.34747264 16.23014188]]\n"
     ]
    },
    {
     "name": "stderr",
     "output_type": "stream",
     "text": [
      "/tmp/ipykernel_656557/1876812766.py:28: DeprecationWarning: Conversion of an array with ndim > 0 to a scalar is deprecated, and will error in future. Ensure you extract a single element from your array before performing this operation. (Deprecated NumPy 1.25.)\n",
      "  samples[i, j] = frechet_distribution.rvs(shape, scale_matrix[i, j], size=size)\n"
     ]
    }
   ],
   "source": [
    "#Generate two trade focused cities with productivity draws (Expected Wages)\n",
    "\n",
    "expenditure = expenditure[:, [1, 0]]\n",
    "\n",
    "detriot = simulate_city(n_sectors, n_tech, tech_correlation, sector_weights, city_elasticity, expenditure_draws=expenditure)\n",
    "flint = simulate_city(n_sectors, n_tech, tech_correlation, sector_weights, city_elasticity, expenditure_draws=expenditure)\n",
    "\n",
    "print(f\"Detriot Productivities: \\n {detriot['productivity_draws']}\")\n",
    "print()\n",
    "print(f\"Flint Productivities: \\n {flint['productivity_draws']}\")"
   ]
  },
  {
   "cell_type": "code",
   "execution_count": 176,
   "metadata": {},
   "outputs": [],
   "source": [
    "# Generate 100 people with endowment draws\n",
    "\n",
    "n_people = 100\n",
    "people = [simulate_person(n_tech) for i in range(n_people)]\n",
    "\n",
    "# 50 people will have skills focused on trades and 50 people will have skills focused on services\n",
    "for i in range(n_people):\n",
    "    if i < 50:\n",
    "        # Add 1 to the first endowment and label as 'trade'\n",
    "        people[i]['endowment_draws'] = people[i]['endowment_draws'].flatten()\n",
    "        people[i]['endowment_draws'][0] *= 1.5\n",
    "        people[i]['label'] = 'trade'\n",
    "    else:\n",
    "        # Add 1 to the second endowment and label as 'services'\n",
    "        people[i]['endowment_draws'] = people[i]['endowment_draws'].flatten()\n",
    "        people[i]['endowment_draws'][1] *= 1.5\n",
    "        people[i]['label'] = 'services'"
   ]
  },
  {
   "cell_type": "code",
   "execution_count": 177,
   "metadata": {},
   "outputs": [],
   "source": [
    "# Solve wages for ever single person in every city\n",
    "\n",
    "sector_elasticity = 0.5\n",
    "new_york['city_name'] = 'New York'\n",
    "detriot['city_name'] = 'Detriot'\n",
    "flint['city_name'] = 'Flint'\n",
    "cities = [new_york, detriot, flint]\n",
    "\n",
    "for person in people:\n",
    "    max_expected_wage = max_wage(cities, person, sector_elasticity)\n",
    "    person['max_expected_wage'] = max_expected_wage['expected_wage']\n",
    "    person['max_city_id'] = max_expected_wage['city_id']\n",
    "    person['max_city'] = [city for city in cities if city['id'] == max_expected_wage['city_id']][0]['city_name']"
   ]
  },
  {
   "cell_type": "code",
   "execution_count": 178,
   "metadata": {},
   "outputs": [
    {
     "data": {
      "image/png": "[encoded data removed]",
      "text/plain": [
       "<Figure size 1000x600 with 1 Axes>"
      ]
     },
     "metadata": {},
     "output_type": "display_data"
    },
    {
     "name": "stdout",
     "output_type": "stream",
     "text": [
      "   max_city  counts\n",
      "0     Flint      20\n",
      "1  New York      80\n"
     ]
    }
   ],
   "source": [
    "# Visualize where different types of people end up\n",
    "\n",
    "import seaborn as sns\n",
    "import pandas as pd\n",
    "import matplotlib.pyplot as plt\n",
    "\n",
    "city_names = [city['city_name'] for city in cities]\n",
    "\n",
    "# Create a DataFrame with city names\n",
    "city_df = pd.DataFrame(city_names, columns=['max_city'])\n",
    "\n",
    "# Assuming 'people' is a list of dictionaries and each dictionary has keys 'max_city' and 'type'\n",
    "df = pd.DataFrame(people)\n",
    "\n",
    "# Count the number of people in each city\n",
    "counts = df.groupby('max_city').size().reset_index(name='counts')\n",
    "\n",
    "# Merge the city_df with counts\n",
    "city_df = city_df.merge(counts, on='max_city', how='left')\n",
    "\n",
    "# Fill NaN values with 0\n",
    "city_df['counts'] = city_df['counts'].fillna(0)\n",
    "\n",
    "# Plot the counts of people in each city\n",
    "plt.figure(figsize=(10,6))\n",
    "plt.bar(city_df['max_city'], city_df['counts'])\n",
    "plt.xlabel('City')\n",
    "plt.ylabel('Count')\n",
    "plt.title('Number of people in each city')\n",
    "plt.xticks(rotation=90)  # Rotate x-axis labels for better visibility\n",
    "plt.show()\n",
    "\n",
    "print(counts)"
   ]
  },
  {
   "cell_type": "code",
   "execution_count": 179,
   "metadata": {},
   "outputs": [
    {
     "name": "stderr",
     "output_type": "stream",
     "text": [
      "/tmp/ipykernel_656557/1876812766.py:28: DeprecationWarning: Conversion of an array with ndim > 0 to a scalar is deprecated, and will error in future. Ensure you extract a single element from your array before performing this operation. (Deprecated NumPy 1.25.)\n",
      "  samples[i, j] = frechet_distribution.rvs(shape, scale_matrix[i, j], size=size)\n"
     ]
    },
    {
     "name": "stdout",
     "output_type": "stream",
     "text": [
      "Celeveland Productivities: \n",
      " [[18.14999607 13.01981089]\n",
      " [13.31216123 12.98840693]\n",
      " [ 4.8464188  24.8595372 ]\n",
      " [16.12802733 15.26461127]\n",
      " [22.39354683 10.32777046]]\n"
     ]
    },
    {
     "data": {
      "image/png": "[encoded data removed]",
      "text/plain": [
       "<Figure size 1000x600 with 1 Axes>"
      ]
     },
     "metadata": {},
     "output_type": "display_data"
    },
    {
     "name": "stdout",
     "output_type": "stream",
     "text": [
      "    max_city  counts\n",
      "0  Cleveland      18\n",
      "1      Flint      16\n",
      "2   New York      66\n"
     ]
    }
   ],
   "source": [
    "# Add a thrid type of balanced city \n",
    "endowment = np.full((5, 2), 28)\n",
    "\n",
    "cleveland = simulate_city(n_sectors, n_tech, tech_correlation, sector_weights, city_elasticity, expenditure_draws=endowment)\n",
    "print(f\"Celeveland Productivities: \\n {cleveland['productivity_draws']}\")\n",
    "cleveland['city_name'] = 'Cleveland'\n",
    "cities.append(cleveland)\n",
    "\n",
    "# Resolve wages for every person in every city\n",
    "for person in people:\n",
    "    max_expected_wage = max_wage(cities, person, sector_elasticity)\n",
    "    person['max_expected_wage'] = max_expected_wage['expected_wage']\n",
    "    person['max_city_id'] = max_expected_wage['city_id']\n",
    "    person['max_city'] = [city for city in cities if city['id'] == max_expected_wage['city_id']][0]['city_name']\n",
    "\n",
    "city_names = [city['city_name'] for city in cities]\n",
    "\n",
    "# Plot results \n",
    "# Create a DataFrame with city names\n",
    "city_df = pd.DataFrame(city_names, columns=['max_city'])\n",
    "\n",
    "# Assuming 'people' is a list of dictionaries and each dictionary has keys 'max_city' and 'type'\n",
    "df = pd.DataFrame(people)\n",
    "\n",
    "# Count the number of people in each city\n",
    "counts = df.groupby('max_city').size().reset_index(name='counts')\n",
    "\n",
    "# Merge the city_df with counts\n",
    "city_df = city_df.merge(counts, on='max_city', how='left')\n",
    "\n",
    "# Fill NaN values with 0\n",
    "city_df['counts'] = city_df['counts'].fillna(0)\n",
    "\n",
    "# Plot the counts of people in each city\n",
    "plt.figure(figsize=(10,6))\n",
    "plt.bar(city_df['max_city'], city_df['counts'])\n",
    "plt.xlabel('City')\n",
    "plt.ylabel('Count')\n",
    "plt.title('Number of people in each city')\n",
    "plt.xticks(rotation=90)  # Rotate x-axis labels for better visibility\n",
    "plt.show()\n",
    "\n",
    "print(counts)"
   ]
  },
  {
   "cell_type": "code",
   "execution_count": 180,
   "metadata": {},
   "outputs": [
    {
     "data": {
      "image/png": "[encoded data removed]",
      "text/plain": [
       "<Figure size 1000x600 with 1 Axes>"
      ]
     },
     "metadata": {},
     "output_type": "display_data"
    },
    {
     "name": "stdout",
     "output_type": "stream",
     "text": [
      "    max_city  counts\n",
      "0  Cleveland      14\n",
      "1    Detriot      20\n",
      "2   New York      66\n"
     ]
    }
   ],
   "source": [
    "# Induce a negative shock to flint\n",
    "\n",
    "multiplier = 1.1\n",
    "detriot['productivity_draws'] = detriot['productivity_draws'] * multiplier\n",
    "\n",
    "# Resolve wages for every person in every city\n",
    "for person in people:\n",
    "    max_expected_wage = max_wage(cities, person, sector_elasticity)\n",
    "    person['max_expected_wage'] = max_expected_wage['expected_wage']\n",
    "    person['max_city_id'] = max_expected_wage['city_id']\n",
    "    person['max_city'] = [city for city in cities if city['id'] == max_expected_wage['city_id']][0]['city_name']\n",
    "\n",
    "# Plot results \n",
    "# Create a DataFrame with city names\n",
    "city_df = pd.DataFrame(city_names, columns=['max_city'])\n",
    "\n",
    "# Assuming 'people' is a list of dictionaries and each dictionary has keys 'max_city' and 'type'\n",
    "df = pd.DataFrame(people)\n",
    "\n",
    "# Count the number of people in each city\n",
    "counts = df.groupby('max_city').size().reset_index(name='counts')\n",
    "\n",
    "# Merge the city_df with counts\n",
    "city_df = city_df.merge(counts, on='max_city', how='left')\n",
    "\n",
    "# Fill NaN values with 0\n",
    "city_df['counts'] = city_df['counts'].fillna(0)\n",
    "\n",
    "# Plot the counts of people in each city\n",
    "plt.figure(figsize=(10,6))\n",
    "plt.bar(city_df['max_city'], city_df['counts'])\n",
    "plt.xlabel('City')\n",
    "plt.ylabel('Count')\n",
    "plt.title('Number of people in each city')\n",
    "plt.xticks(rotation=90)  # Rotate x-axis labels for better visibility\n",
    "plt.show()\n",
    "\n",
    "print(counts)"
   ]
  },
  {
   "cell_type": "markdown",
   "metadata": {},
   "source": [
    "Consumers draw from some bivariate normal. \n",
    "Just choose cities, not sectors. Hide the sectors, just get some expeteed wage. Just utility of expected wage. How willing are you to substitue across sectors.\n",
    "\n",
    "Don't make detriot and flint the same.\n",
    "Change to the new household formulation.\n",
    "Read guangbin, where does he put frechet.\n",
    "\n",
    "If new york is 10% of the population, the there's a 10% chnace I move to New York.\n",
    "\n",
    "Make expenditure sector specific.\n",
    "\n",
    "Restate pg 322 from Lind & Ramondo in terms of workers and cities."
   ]
  }
 ],
 "metadata": {
  "kernelspec": {
   "display_name": "Python 3",
   "language": "python",
   "name": "python3"
  },
  "language_info": {
   "codemirror_mode": {
    "name": "ipython",
    "version": 3
   },
   "file_extension": ".py",
   "mimetype": "text/x-python",
   "name": "python",
   "nbconvert_exporter": "python",
   "pygments_lexer": "ipython3",
   "version": "3.12.3"
  }
 },
 "nbformat": 4,
 "nbformat_minor": 2
}
