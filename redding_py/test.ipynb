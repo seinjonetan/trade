{
 "cells": [
  {
   "cell_type": "code",
   "execution_count": 1,
   "metadata": {},
   "outputs": [
    {
     "name": "stdout",
     "output_type": "stream",
     "text": [
      "[0.1 0.1]\n"
     ]
    }
   ],
   "source": [
    "from functions.acrwelfaregains import acrwelfaregains\n",
    "import numpy as np\n",
    "\n",
    "print(acrwelfaregains([0.5, 0.5, 0.5], np.array([[1, 2], [3, 4]]), np.array([[0.1, 0.2], [0.3, 0.4]]), np.array([[0.5, 0.6], [0.7, 0.8]]), np.array([[0.9, 0.8], [0.7, 0.6]]), 2)) # [0.31622777 0.31622777]"
   ]
  },
  {
   "cell_type": "code",
   "execution_count": 27,
   "metadata": {},
   "outputs": [
    {
     "name": "stdout",
     "output_type": "stream",
     "text": [
      "[1. 1. 1.]\n"
     ]
    }
   ],
   "source": [
    "import numpy as np\n",
    "import time\n",
    "\n",
    "def solveLwCtyOpen(param, fund, dwght, dist, nobs):\n",
    "    global alpha, sigma, theta, epsilon, LL, LLwest, LLeast\n",
    "\n",
    "    # Start timer\n",
    "    xtic = time.time()\n",
    "\n",
    "    # param=[alpha theta epsilon]\n",
    "    alpha, theta, epsilon = param\n",
    "\n",
    "    # fund[:,0]=a; fund[:,1]=b; fund[:,2]=H; fund[:,3]=Iwest; fund[:,4]=Ieast\n",
    "    a, b, H, Iwest, Ieast = fund.T\n",
    "\n",
    "    # convergence indicator\n",
    "    wconverge = 0\n",
    "    Lconverge = 0\n",
    "\n",
    "    # Initializations\n",
    "    L_i = np.ones(nobs) * (LL / nobs)\n",
    "    w_i = np.ones(nobs)\n",
    "\n",
    "    # trade costs\n",
    "    dd = dist ** -theta\n",
    "    dd = dwght * dd\n",
    "\n",
    "    print('>>>> Start Wage and Population Convergence <<<<')\n",
    "\n",
    "    # Start outer loop for population\n",
    "    xx = 1\n",
    "    while xx < 2000:\n",
    "\n",
    "        # Start inner loop for wages\n",
    "        x = 1\n",
    "        while x < 2000:\n",
    "\n",
    "            # Trade share\n",
    "            pwmat = a * (w_i ** -theta) * np.ones(nobs)\n",
    "            nummat = dd * pwmat\n",
    "            denom = np.sum(nummat)\n",
    "            denommat = np.ones((nobs, 1)) * denom\n",
    "            tradesh = nummat / denommat\n",
    "\n",
    "            # Income equals expenditure\n",
    "            income = w_i * L_i\n",
    "            expend = tradesh @ income\n",
    "\n",
    "            # Convergence criterion\n",
    "            income_r = np.round(income * 10**6)\n",
    "            expend_r = np.round(expend * 10**6)\n",
    "\n",
    "            # Update loop\n",
    "            if np.all(income_r == expend_r):\n",
    "                x = 10000\n",
    "                wconverge = 1\n",
    "            else:\n",
    "                w_e = w_i * (expend / income) ** (1 / theta)\n",
    "                w_i = 0.25 * w_e + 0.75 * w_i\n",
    "                # Normalization\n",
    "                w_i[Iwest == 1] /= np.mean(w_i[Iwest == 1])\n",
    "                wconverge = 0\n",
    "                x += 1\n",
    "\n",
    "        # End inner loop for wages\n",
    "\n",
    "        # Domestic trade share\n",
    "        dtradesh = np.diag(tradesh)\n",
    "\n",
    "        # Population\n",
    "        num = b * (a / dtradesh) ** (alpha * epsilon / theta) * (L_i / H) ** (-epsilon * (1 - alpha))\n",
    "        L_e = np.zeros(nobs)\n",
    "        L_e[Iwest == 1] = num[Iwest == 1] / np.sum(num[Iwest == 1])\n",
    "        L_e[Ieast == 1] = num[Ieast == 1] / np.sum(num[Ieast == 1])\n",
    "        L_e[Iwest == 1] *= LLwest\n",
    "        L_e[Ieast == 1] *= LLeast\n",
    "\n",
    "        # Convergence criterion\n",
    "        L_i_r = np.round(L_i * 10**6)\n",
    "        L_e_r = np.round(L_e * 10**6)\n",
    "\n",
    "        # Update loop\n",
    "        if np.all(L_i_r == L_e_r):\n",
    "            xx = 10000\n",
    "            Lconverge = 1\n",
    "        else:\n",
    "            L_e = L_i * (L_e / L_i) ** (1 / (epsilon * (1 - alpha)))\n",
    "            L_i = 0.25 * L_e + 0.75 * L_i\n",
    "            Lconverge = 0\n",
    "            xx += 1\n",
    "\n",
    "    # End outer loop for populations\n",
    "    \n",
    "    return w_i, L_i"
   ]
  }
 ],
 "metadata": {
  "kernelspec": {
   "display_name": "Python 3",
   "language": "python",
   "name": "python3"
  },
  "language_info": {
   "codemirror_mode": {
    "name": "ipython",
    "version": 3
   },
   "file_extension": ".py",
   "mimetype": "text/x-python",
   "name": "python",
   "nbconvert_exporter": "python",
   "pygments_lexer": "ipython3",
   "version": "3.10.12"
  }
 },
 "nbformat": 4,
 "nbformat_minor": 2
}
